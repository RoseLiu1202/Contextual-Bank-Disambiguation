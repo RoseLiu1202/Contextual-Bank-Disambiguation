{
 "cells": [
  {
   "cell_type": "markdown",
   "id": "1a3566b1-401c-4635-8133-73a0fa3861e7",
   "metadata": {},
   "source": [
    "## <strong>Psych 4631 Final Project: A model for homonym semantic categorization</strong>\n",
    "#### 04 / 28 / 2024\n",
    "#### Rose Liu, Chris Gu\n",
    "#### <strong>Description</strong>: \n",
    "\n",
    "The project aims to build a model to categorize semantics of homonyms(i.e. words that have a single spoken and written form that refers to multiple unrelated concepts(Rodd et al.,2004)) based on the contexts they appear within. Specifically, to start small, the model is built to <strong>categorize two meanings of the word \"bank\": 1. bank as in \"river bank\" and 2. bank as a financial institution.</strong> The whole pipeline includes input processing, model construction, training, and testing.\n",
    "\n",
    "* We take this project as a precious chance to deepen our understanding of neural network, as well as to learn, try, and apply new, more complex model to realize our conceptual ideas on semantic processing. This project may not be exactly reflecting a complete cognitive process and/or building a model from scratch, but we hope that by doing this, we would be able to obtain more insights into how semantic processing can be possibly modeled. We really appreciate the thought process of putting our abstract ideas into tangible work step by step, and we hope we could extend this project further and deeper later on!"
   ]
  },
  {
   "cell_type": "code",
   "execution_count": 1,
   "id": "83b68d9b-57d4-4f4d-9d3b-f0549218c759",
   "metadata": {},
   "outputs": [],
   "source": [
    "# Import useful packages:\n",
    "import numpy as np\n",
    "import pandas as pd\n",
    "import matplotlib.pyplot as plt"
   ]
  },
  {
   "cell_type": "markdown",
   "id": "0f518440-c0b6-4d28-a613-f8b34d351ab1",
   "metadata": {},
   "source": [
    "### <strong>1. Input processing</strong>"
   ]
  },
  {
   "cell_type": "code",
   "execution_count": 2,
   "id": "c45f1493-3a12-495d-866f-4d3e9943c94c",
   "metadata": {},
   "outputs": [
    {
     "name": "stderr",
     "output_type": "stream",
     "text": [
      "[nltk_data] Downloading package punkt to /Users/guyueping/nltk_data...\n",
      "[nltk_data]   Package punkt is already up-to-date!\n",
      "[nltk_data] Downloading package stopwords to\n",
      "[nltk_data]     /Users/guyueping/nltk_data...\n",
      "[nltk_data]   Package stopwords is already up-to-date!\n"
     ]
    },
    {
     "data": {
      "text/plain": [
       "True"
      ]
     },
     "execution_count": 2,
     "metadata": {},
     "output_type": "execute_result"
    }
   ],
   "source": [
    "# Import packages for input processing: nltk for text conversion, filtering, etc, regex for finding matching patterns\n",
    "import nltk\n",
    "from nltk.corpus import stopwords\n",
    "import string\n",
    "import re\n",
    "nltk.download('punkt')\n",
    "nltk.download('stopwords')"
   ]
  },
  {
   "cell_type": "markdown",
   "id": "a0ee562f-b537-45dc-b79e-98eec758466a",
   "metadata": {},
   "source": [
    "#### <strong>1.1 Dataset Preparation</strong>\n",
    "* In the first stage, our dataset contains 600 sentences in total, 300 sentences for each of the two meanings of \"bank\". \n"
   ]
  },
  {
   "cell_type": "code",
   "execution_count": 3,
   "id": "e334b7a7-aeed-4148-b969-6ddf1226a7dd",
   "metadata": {},
   "outputs": [],
   "source": [
    "#Loading Dataset (sentences generated with Chatgpt)\n",
    "river_path = '/Users/guyueping/Documents/Spring2024/Psych4631/project/river_bank_inputs.txt' #need to change path\n",
    "financial_path = '/Users/guyueping/Documents/Spring2024/Psych4631/project/financial_bank_inputs.txt' #need to change path\n",
    "\n",
    "with open(river_path, 'r', encoding='utf-8') as file:\n",
    "    river_sentences = [line.strip() for line in file]\n",
    "with open(financial_path, 'r', encoding='utf-8') as file:\n",
    "    financial_sentences = [line.strip() for line in file]"
   ]
  },
  {
   "cell_type": "markdown",
   "id": "0febf224-443a-4f76-810d-9ed9ab4d123c",
   "metadata": {},
   "source": [
    "#### <strong>1.2 Data Pre-processing </strong>\n",
    "* Convert and filter the sentences to make them cleaner, and ensure consistent formatting for the target word 'bank'."
   ]
  },
  {
   "cell_type": "code",
   "execution_count": 4,
   "id": "f1d165e3-eff7-4b3c-95ec-9a60f0da96ec",
   "metadata": {},
   "outputs": [],
   "source": [
    "# Get lists of stopwords and punctuations\n",
    "stop_words = set(stopwords.words('english'))\n",
    "punctuation = set(string.punctuation)"
   ]
  },
  {
   "cell_type": "code",
   "execution_count": 5,
   "id": "beebc177-3038-4895-8bd2-0d07e2982569",
   "metadata": {},
   "outputs": [],
   "source": [
    "def filter_sentence(sentence):\n",
    "\n",
    "    # Tokenize each sentence into a collection of words in a list form\n",
    "    words = nltk.word_tokenize(sentence)\n",
    "    filtered_words = []\n",
    "    prev_word = None\n",
    "\n",
    "    for word in words:\n",
    "        \n",
    "        # Get rid of possessive case if it immediately follows the target word\n",
    "        if word.lower() == \"banks\":\n",
    "            word = \"bank\"\n",
    "            \n",
    "        # For the target word, replace the plural form with sigular form \n",
    "        if word.lower() == \"'s\" and prev_word == \"bank\":\n",
    "            continue\n",
    "            \n",
    "        # Remove stopwords and punctuations\n",
    "        if word.lower() not in stop_words and word not in punctuation:\n",
    "            filtered_words.append(word)\n",
    "        prev_word = word\n",
    "\n",
    "    filtered_sentence = ' '.join(filtered_words)\n",
    "    return filtered_sentence"
   ]
  },
  {
   "cell_type": "code",
   "execution_count": 6,
   "id": "e4ac8969-fd7f-467b-a4e8-18b6ce0a7920",
   "metadata": {},
   "outputs": [
    {
     "name": "stdout",
     "output_type": "stream",
     "text": [
      "300\n",
      "['deposit check withdraw cash need visit bank', \"loan application new house approved bank 'm excited move soon\", 'local bank John works teller helping customers transactions inquiries', 'Various financial services including savings accounts loans investment options offered bank customers', 'Recently bank interest rates increased affecting mortgage rates loan repayments', 'Managing bank wealth management division Sarah advises clients investment strategies financial planning', 'New security measures implemented bank protect customers accounts fraud identity theft', 'Plans expand operations new markets introduce innovative banking products announced bank CEO', 'financial literacy workshop educate customers budgeting saving investing hosted bank', 'anywhere customers access accounts conduct transactions using bank online banking platform', 'Providing convenient access banking services customers bank branch network spans across country', 'Exceeding analysts expectations bank quarterly earnings report drove stock price', 'approve merger rival bank bank shareholders voted creating larger competitive institution', 'Available 24/7 assist customers banking needs bank customer service representatives', 'grants scholarships volunteer programs local communities supported bank philanthropic initiatives', 'user-friendly interface convenient features bank mobile banking app received positive reviews', 'Working closely clients develop personalized investment portfolios tailored goals risk tolerance bank financial advisors', 'Ensuring compliance regulatory requirements bank branch manager oversees daily operations', 'Overlooking city skyline bank corporate headquarters located heart financial district', 'lead institution next phase growth new CEO appointed bank board directors', 'diverse portfolio investments including stocks bonds real estate overseen bank asset management division', 'Based income credit history collateral loan officers assess creditworthiness evaluate loan applications bank', 'Among highest industry bank customer satisfaction ratings consistently ranked', \"assess potential risks institution 's financial stability market conditions monitored potential risks assessed bank risk management team\", \"Detailed insights institution 's financial performance strategy outlook provided bank annual report\", 'bank recently launched new credit card attractive rewards benefits', 'Negotiations underway bank acquire smaller regional competitor', 'meet needs international clients bank opened several foreign branches', 'bank fraud detection system updated prevent unauthorized transactions', 'High-net-worth individuals receive bespoke financial services bank private banking sector', 'bank ATM network expanded provide wider coverage convenience', 'Corporate clients rely bank comprehensive commercial banking solutions', 'bank mortgage rates competitive attracting large number first-time home buyers', 'streamline operations bank introduced new digital invoicing system', 'bank partnered fintech companies enhance technological capabilities', 'Due robust performance bank stock considered blue-chip investment', 'bank offers special savings account higher interest rates senior citizens', 'recent cybersecurity breach prompted bank overhaul security', 'bank lending criteria tightened following regulatory changes', 'opted high-yield savings account comparing rates several bank', 'bank ’ quarterly report highlighted increase online banking transactions', 'chose bank based strong track record community investment', 'bank ’ new branch manager hosted meet-and-greet local businesses', 'downloaded bank app keep better track spending savings', 'bank offered workshop managing debt effectively', 'bank ’ fraud alert system notified suspicious activity account', 'bank ’ recent merger created one largest banking entities region', 'praised bank swift action resolving account issues', 'bank ’ customer loyalty program included discounts various local stores', 'utilized bank ’ notary services signing legal documents', 'bank installed new ATMs allowed quicker deposits', 'appreciated bank ’ efforts educate clients cybersecurity best practices', 'bank hosted investment seminar focusing emerging markets', 'bank ’ mortgage advisors provided invaluable guidance home buying process', 'bank ’ annual charity drive raised significant funds local nonprofits', 'consulted bank wealth management experts plan retirement', 'bank ’ new software streamlined loan processing times significantly', 'received personalized banking experience thanks bank ’ dedicated client service team', 'bank offered grace period loan repayments economic downturn', 'used bank ’ currency exchange service trip abroad', 'bank ’ mobile deposit feature made easy bank anywhere', 'impressed bank ’ commitment reducing carbon footprint', 'bank provided sponsorship local high school ’ financial literacy program', 'took advantage bank ’ offer waive annual fee credit card', 'bank ’ 24-hour customer service hotline major convenience', 'attended first-time homebuyers course offered bank', 'bank ’ state-of-the-art security system made feel confident deposits', 'bank offered competitive interest rate small business loans', 'bank launched new series webinars financial health', 'appreciated bank ’ clear no-fee policy outlined account agreement', 'bank recognized exemplary service national banking awards', 'set automatic bill payments bank ’ online portal', 'bank ’ recent update terms service included enhanced customer rights', 'received loan bank expand business premises', 'bank ’ drive-through service convenient quick transactions', 'used bank ’ budgeting tools manage finances effectively', 'bank ’ annual community day featured financial workshops fun activities', 'got premium bank card offered extensive travel insurance', 'bank ’ investment advice helped portfolio grow steadily', 'relieved bank recovered funds lost phishing scam', 'bank ’ collaboration fintech startups brought innovative solutions customers', 'secured emergency line credit bank cash flow crisis', 'bank ’ branch redesign focused creating welcoming environment', 'benefited bank ’ low-interest student loan offer', 'bank ’ app features integration voice-activated smart home devices', 'part focus group providing feedback bank ’ new services', 'bank issued recall latest batch contactless debit cards due security flaw', 'took bank loan finance master ’ degree', 'bank ’ quarterly community newsletter featured tips saving investing', 'used bank ’ financial planning service ensure estate well-managed', 'bank ’ loan forgiveness program relief many financial crisis', 'enjoyed benefits bank ’ executive account including airport lounge access', 'bank ’ responsive design made online banking accessible device', 'grateful bank ’ quick response wallet stolen', 'bank organized financial boot camp young entrepreneurs', 'used bank ’ check scanning feature deposit checks directly office', 'bank ’ credit card offered cash back purchases', 'consulted bank ’ tax expert advice tax-efficient savings', 'bank ’ local art sponsorship program helped foster community relations', 'able negotiate better interest rate savings account bank', 'bank ’ disaster recovery fund provided loans businesses affected natural disaster', 'used bank ’ secure document upload feature provide necessary application documents', 'bank ’ branch Main Street underwent major renovation modernize facilities', 'appreciated bank ’ thorough vetting process applying personal loan', 'bank ’ annual report showed significant advances customer service technology', 'took part bank ’ referral program earning rewards bringing new customers', 'bank provided free identity theft protection services customers', 'used bank ’ savings calculator plan budget effectively', 'bank ’ ATM network expansion made easier customers access money', 'valued bank ’ transparency customer dealings', 'bank ’ financial analysts provided clients market insights forecasts', 'chose bank based excellent track record handling loan applications', 'bank ’ community involvement included sponsoring local sports teams', 'benefited bank ’ advice international money transfers', 'bank ’ secure online banking platform featured multi-factor authentication', 'invited customer appreciation event hosted bank', 'bank ’ new policy facilitated easier access funds small enterprises', 'found advice bank ’ blog investment strategies useful', 'bank offered special savings accounts veterans added benefits', 'impressed efficiency bank ’ new queue management system', 'bank ’ financial advisors always ready help investment questions', 'appreciated bank ’ efforts support sustainability green financing options', 'bank ’ loyalty program included benefits like discounts local restaurants stores', 'attended bank ’ sponsored talk future digital currency', 'bank ’ branch city center equipped latest banking technology', 'used bank ’ instant messaging service get real-time answers queries', 'bank offered secure vault service safekeeping valuable documents', 'able use bank ’ global ATM network without incurring fees traveling', 'bank ’ user-friendly interface made easy seniors conduct banking online', 'took advantage bank ’ special offers home equity loans', 'bank provided custom financial solutions clients unique needs', 'received assistance bank setting new business ’ financial infrastructure', 'bank ’ annual financial literacy seminar aimed helping young adults manage finances', 'impressed bank ’ commitment providing educational resources financial management', 'bank ’ special event high-net-worth clients featured expert talks wealth preservation', 'valued privacy security bank offered transactions', 'bank ’ quick loan approval process helped deal unexpected financial emergency', 'made use bank ’ specialized services expatriates managing finances across borders', 'bank ’ analysts forecasted bullish market extensive economic evaluations', 'navigated bank ’ intricate investment portals ease optimizing asset allocation', 'branch manager instituted new protocol expedite loan approvals bank', 'financial consultant bank devised robust portfolio maximize returns', 'bank quarterly dividends announcement eagerly anticipated shareholders', \"utilized bank comprehensive estate planning services secure children 's future\", 'bank innovation lab released cutting-edge mobile payment solution', 'praised bank initiative integrating blockchain technology enhanced security', 'bank fiscal health scrutinized latest regulatory audit', 'benefited bank bespoke financial advice tailored unique circumstances', 'bank launched pioneering sustainability bond attracting eco-conscious investors', 'attended seminar hosted bank navigating complexities international finance', 'bank ’ credit risk team developed new model mitigate potential loan defaults', 'appointed bank chief strategist overseeing financial operations', 'bank ’ latest commercial lending rates competitive attracting numerous local businesses', 'leveraged bank ’ data-driven insights optimize investment strategy', 'bank introduced dynamic currency conversion feature global traders', 'found bank ’ comprehensive guide tax implications extremely useful', 'bank ’ restructuring plan designed streamline global operations', 'utilized bank ’ sophisticated tools forecast market trends volatility', 'bank ’ seminar wealth accumulation strategies highly informative', 'appreciated bank ’ proactive approach managing investment portfolio', 'bank new digital signature process significantly reduced paperwork', 'benefited bank ’ tailored approach corporate finance', 'bank annual financial expo showcased innovative fintech collaborations', 'reviewed bank ’ detailed prospectus investing new fund', 'bank implemented stringent measures combat money laundering', 'consulted bank ’ expert international tax law optimize investments', 'bank ’ venture capital arm invested several promising startups', 'used bank ’ encrypted online platform conduct secure transactions', 'bank financial ombudsman handled customer disputes impartially', 'impressed bank agile response market disruptions', 'bank ’ loyalty program revamped offer exclusive benefits', 'took advantage bank ’ derivative trading services hedge investments', 'bank hosted webinar implications monetary policy changes', 'navigated bank ’ multi-tiered investment structures optimize holdings', 'bank ’ compliance department ensured adherence international banking regulations', 'appreciated personalized attention received private banking sessions', 'bank ’ credit facility extended lifeline struggling small enterprises economic downturn', 'utilized bank ’ algorithmic trading tools enhance trading strategy', 'bank ’ annual report highlighted commitment ethical banking practices', 'capitalized bank ’ competitive exchange rates multinational transactions', 'bank ’ dedicated concierge service handled financial requests efficiently', 'briefed bank latest cybersecurity measures protect assets', 'bank equity research division provided clients comprehensive market analyses', 'found bank ’ mobile app exceptionally user-friendly enabling seamless account management', 'bank private equity investments outperformed expectations delivering substantial returns', 'grateful bank ’ rapid dispute resolution process', 'bank ’ advanced risk assessment tools helped manage company ’ financial exposure', 'attended bank ’ exclusive networking event high-net-worth individuals', 'bank predictive analytics helped forecast spending patterns adjust savings strategies accordingly', 'benefited bank ’ custom liquidity solutions cash flow crunch', 'bank ’ branchless banking model appealed tech-savvy customers seeking convenience', 'utilized bank ’ escrow services facilitate secure real estate transaction', 'bank ’ credit enhancement strategies bolstered investment grade rating', 'attended bank ’ annual corporate governance meeting discuss shareholder interests', 'bank ’ microfinance initiatives supported local entrepreneurs underserved communities', 'meticulous using bank ’ budgeting software manage finances', 'bank ’ strategic investments renewable energy projects garnered positive media coverage', 'appreciated bank ’ transparent approach fees charges', 'bank ’ innovative loan deferment options provided relief borrowers recession', 'engaged bank ’ advisory team plan philanthropic activities', 'bank ’ real-time financial monitoring tools offered insights market dynamics', 'used bank ’ automated investment service build diversified portfolio', 'bank ’ foreign investment opportunities expanded financial horizons', 'took part bank ’ corporate challenge promoted financial literacy among employees', 'bank ’ green bonds attracted investors looking fund environmental projects', 'coordinated bank ’ treasury services optimize firm ’ cash management', 'bank ’ in-depth analysis global markets guided foreign investment decisions', 'featured bank ’ newsletter contributions charity foundation', 'bank ’ strategic foresight ensured stability growth despite economic uncertainties', 'valued bank ’ expertise asset-backed securities investment portfolio', 'bank ’ comprehensive retirement planning services helped prepare future', 'consulted bank ’ currency strategist making large-scale foreign investments', 'bank ’ periodic financial health checks ensured investments track', 'utilized bank ’ secure vaults safekeeping valuable collectibles', 'bank ’ capital markets division facilitated access global exchanges', 'proactive using bank ’ resources maximize non-profit ’ funds', 'bank ’ tailored expatriate banking services simplified international financial management', 'admired bank ’ architectural design reflected commitment modernity security', 'bank ’ investment club provided forum clients exchange ideas strategies', 'leveraged bank ’ insights emerging markets diversify investment portfolio', 'bank ’ seamless integration insurance services provided comprehensive coverage', 'participated bank ’ mentorship program gaining insights seasoned financial experts', 'bank ’ contract negotiation services crucial securing favorable terms business deals', 'appreciated bank ’ rapid processing international wire transfers', 'bank ’ quarterly insights webinar kept informed latest economic trends', 'coordinated bank ’ event team host fundraiser one premier locations', 'bank ’ financial concierge service handled complex banking needs discretion', 'used bank ’ sophisticated financial modeling tools predict future market movements', 'bank ’ dynamic asset allocation strategies helped respond market fluctuations', 'utilized bank ’ notary public services certifying important legal documents', 'bank ’ community outreach programs aligned values corporate social responsibility', 'impressed bank ’ comprehensive approach handling international estate planning', 'bank ’ robust mobile banking security features ensured transactions safe', 'took advantage bank ’ tax optimization services enhance financial efficiency', 'bank ’ round-the-clock trading desk enabled react instantly global market changes', 'featured bank ’ internal magazine leadership community service initiatives', 'bank ’ advanced data encryption protected sensitive financial information', 'valued bank ’ continuous updates improvements online banking platform', 'bank robust lending framework supported numerous local startups small businesses', 'accessed bank suite online tools streamline tax preparation', 'bank offered exclusive webinar impact monetary policy personal investments', 'appreciated convenience bank ’ extended hours weekdays', 'bank ’ quarterly economic forecast influenced corporate investment strategies across sector', 'utilized bank sophisticated API integrate financial data company ’ systems', 'bank launched new line environmentally-friendly credit products support green initiatives', 'benefited bank ’ bespoke advisory services offered deep dives market analytics', 'bank new policy digital currencies opened novel investment opportunities tech-savvy clients', 'took proactive role bank ’ community engagement program aligning social impact goals', 'bank ’ credit assessment tool used machine learning improve loan underwriting processes', 'negotiated better interest rate bank using excellent credit history', 'bank ’ art collection displayed across branches included notable works contemporary artists', 'resolved query using bank ’ AI-powered customer service chatbot', 'bank investment cybersecurity ensured customer data protected emerging threats', 'used bank ’ advanced forecasting tools plan economic downturns', 'bank offered premium business account included global transaction capabilities', 'impressed bank initiative provide microloans women entrepreneurs rural areas', 'bank ’ dedicated team corporate governance reinforced transparency accountability', 'utilized bank ’ trade finance expertise support import/export business', \"bank dynamic reporting tools helped monitor company 's financial performance real-time\", 'attended bank ’ luxury real estate financing seminar explore investment opportunities', 'bank ’ quarterly magazine featured insightful articles wealth management investment strategies', 'benefited bank tailored risk management solutions volatile market periods', 'bank ’ sponsorship major sporting events boosted brand visibility among wider audience', 'admired bank commitment advancing financial literacy foundation', 'bank introduced state-of-the-art biometric authentication system enhance security', 'coordinated bank secure substantial commercial loan favorable terms', 'bank ’ financial clinic offered free consultations help individuals manage debt effectively', 'leveraged bank ’ asset management services maintain diversified balanced investment portfolio', 'bank ’ annual report detailed strategic plans tackle challenges digital banking', 'used bank ’ estate planning service ensure assets managed according wishes', 'bank innovative mobile app features allowed customers manage multiple accounts seamlessly', 'appreciated bank ’ initiative organizing annual conferences global economic trends', 'bank ’ strategic partnership leading tech firms enhanced digital transformation', 'found great value bank ’ comprehensive guide investment precious metals', 'bank ’ interactive financial dashboard allowed track spending patterns effectively', 'participated bank ’ exclusive investor ’ club gaining access advanced market insights', 'bank launched fintech accelerator nurture innovative financial technologies', 'used bank ’ retirement planning services ensure secure stable future', 'bank ’ branch redesign incorporated advanced ergonomic features enhanced customer comfort', 'panelist bank ’ discussion future blockchain banking', 'bank ’ loyalty program provided attractive rewards regular transactions', 'utilized bank ’ international networking events expand professional contacts', 'bank compliance international financial regulations reassured stability reliability', 'recommended bank ’ budgeting workshops colleagues looking improve financial skills', 'bank ’ annual client gala sophisticated affair celebrating long-term partnerships', 'contributed articles bank ’ financial education blog sharing insights market dynamics', 'bank cash management solutions integral company ’ operational efficiency', 'used bank ’ global ATM network travels without incurring excessive fees', 'bank ’ mortgage calculator essential tool home buying process', 'found bank ’ fast-track dispute resolution service highly efficient transaction error', 'bank ’ equity research reports became cornerstone investment decisions', 'appreciated discreet professional service provided bank ’ private client advisors', 'bank corporate social responsibility programs focused sustainable development projects', 'engaged bank ’ investment seminars better understand nuances stock market investing', 'bank ’ redesigned online banking interface offered enhanced usability accessibility', 'coordinated bank implement streamlined payroll system staff', 'bank ’ branch network expansion strategy aligned vision accessibility convenience', 'appreciated bank ’ commitment personalized service evident every interaction', 'bank ’ annual investor symposium provided valuable insights evolving financial landscape', 'utilized bank ’ document safekeeping services secure important legal papers']\n"
     ]
    }
   ],
   "source": [
    "filtered_financial_sentences = [filter_sentence(sentence) for sentence in financial_sentences]\n",
    "\n",
    "print(len(filtered_financial_sentences))\n",
    "print (filtered_financial_sentences)"
   ]
  },
  {
   "cell_type": "code",
   "execution_count": 7,
   "id": "fff20ed5-959c-4194-8b02-438bb7db10f3",
   "metadata": {},
   "outputs": [
    {
     "name": "stdout",
     "output_type": "stream",
     "text": [
      "300\n",
      "['children played bank river skipping stones watching fish swim', 'picnic grassy bank river enjoying cool breeze serene atmosphere', 'Ducks swimming near muddy bank river searching food', 'fishing boat docked edge river bank unloading catch day', 'Trees provided shade along steep bank river offering peaceful retreat summer heat', 'heron stood motionless river bank waiting patiently next meal', 'river bank teeming life frogs croaking birds chirping nearby trees', 'campers set tents sandy bank river enjoying sounds nature', 'jogger followed trail along river bank breathing fresh air admiring scenery', 'river bank eroding due heavy rainfall increased water flow', 'Wildflowers bloomed along river bank adding vibrant colors landscape', 'kayakers paddled along winding river passing lush greenery river bank', 'Fishermen cast lines rocky bank river hoping big catch', \"deer emerged dense foliage river bank cautiously approaching water 's edge\", 'sunset cast golden glow calm waters river illuminating bank warm light', 'Canoeists navigated narrow channels river maneuvering around fallen trees overhanging branches', 'river bank popular spot birdwatchers came observe migratory birds nesting species', 'children built sandcastles sandy bank river using buckets shovels sculpt soft sand', 'old oak tree stood tall river bank branches stretching water', 'hikers followed trail along river bank enjoying tranquility natural surroundings', 'family otters frolicked shallows near river bank chasing playfully', 'floodwaters receded leaving debris scattered along river bank', 'river bank peaceful retreat visitors could escape hustle bustle city life', 'fisherman set tackle box grassy bank river preparing day fishing', 'wooden bridge spanned river connecting two bank providing access side', 'Morning dew glistened foliage lining river bank day began', 'photographer took stunning photos wildlife along river bank', 'Children laughed splashed water near shallow bank river', 'Campfires flickered night quiet river bank', 'Anglers found secluded spot river bank fish trout', 'artist set easel river bank capture scenic beauty', 'gentle mist rose river bank dawn creating mystical atmosphere', 'Wild geese landed gracefully river bank migration', 'sound flowing river gently echoed bank soothing campers', 'natural path wound way along river bank perfect evening stroll', 'river bank bursting wildflowers spring', 'Locals gathered river bank annual summer festival', \"beaver dam could seen river bank testament nature 's engineers\", 'river bank lush green grass even dry season', 'Mushrooms sprouted damp soil along shaded river bank', \"river 's current carved bank reshaping landscape slowly\", 'couple pledged vows serene river bank sunset', 'children ’ laughter river bank filled air family reunion', 'Canoers rested paddles drifted close river bank', 'Dragonflies darted water near river bank hunting insects', 'group friends played guitar sang songs around fire river bank', 'river bank lined pebbles stones smoothed years flowing water', 'Footprints led river bank small boat moored', 'Herons waded near river bank eyes keenly searching fish', \"sun 's reflection danced river surface casting light onto bank\", 'Picnickers spread blankets willow trees along river bank', 'river bank perfect spot quiet afternoon reading', 'gentle breeze rustled leaves trees lined river bank', 'children skipped rocks across water muddy river bank', 'river swelled bank gradually began erode pressure', 'Nature enthusiasts identified several species plants walk along river bank', 'swan family glided past close river bank watchful eyes cygnets', 'sound guitar floated campsite hidden along river bank', 'lone fisherman stood river bank dawn line cast quiet waters', 'river bank offered natural city dwellers seeking solitude', 'poetry club held monthly meeting large oak river bank', 'young couple shared first kiss picturesque river bank', 'river bank thick reeds rushes teeming insect life', 'Every year river bank bore witness blossoming thousands daisies', 'old man told stories youth spent fishing along river bank', 'river bank historical site early settlers first built homes', 'local school organized clean-up days preserve beauty river bank', 'Snow covered river bank blanket white winter months', 'Kayakers stopped rest enjoy snack sandy stretch river bank', 'river bank home rare species bird attracting birdwatchers across region', 'Fog enveloped river bank early morning creating scene painting', 'children discovered frog pond river bank exploration', 'dusk fireflies illuminated river bank creating magical atmosphere', 'river bank served boundary line two ancient territories', 'rope swing hung sturdy branch river bank favorite among local kids', 'river bank dotted colorful tents annual kayaking trip', 'Deer often visited river bank dawn drink clear waters', 'Wild berry bushes thrived fertile soil river bank providing treat passersby', 'river bank echoed sounds local jazz band community picnic', 'Environmental scientists conducted studies river bank monitor ecosystem health', 'lost kitten found curled bush river bank jogger', 'river bank setting well-known romantic scene classic film', 'Elderly walkers enjoyed flat scenic path ran along river bank', 'river bank gradually reinforced prevent flooding nearby village', 'annual art fair took place river bank drawing talented artists around country', 'Birdhouses mounted trees along river bank support local bird populations', 'river bank occasionally used geological surveys due exposed layers soil', 'yoga instructor held morning classes grassy part river bank', 'Wild horses sometimes seen grazing near river bank early morning', 'local theater group performed open-air plays river bank summer', 'Migratory birds rested river bank midpoint long journey', 'river bank featured cover national travel magazine', 'beekeeper set hives close river bank take advantage wildflowers', 'Local historians led tours along river bank telling stories area ’ past', 'river bank quiet place contemplation meditation', 'small wooden jetty river bank used children catch tadpoles', 'Volunteers planted trees along river bank help stabilize soil', 'river bank hidden cove perfect swimming hot days', 'old faded sign river bank marked start historic hiking trail', 'river bank became lively spot annual fish migration drawing spectators photographers alike', 'sun set behind trees lining bank casting long shadows water', 'Picnickers enjoyed lazy afternoon sprawled along grassy bank', 'Children squealed delight splashed water near moss-covered bank', 'Fishermen set rods dawn hopeful catch along tranquil bank', 'gentle breeze rustled leaves trees lined bank', 'annual river cleanup initiative focused litter-strewn bank', \"Birdwatchers set tripods capturing shots migrating birds along river 's bank\", 'Kayakers pulled crafts onto bank brief rest shade', 'flood significantly altered landscape bank leaving barely recognizable', 'Wildflowers along bank swayed river gurgled past gently', 'proposed bank starlit sky water whispering beside', 'old willow tree sentinel bank witnessed decades river life', \"Families gathered bank community 's annual fishing derby\", 'artist painted serene landscapes featuring bank canvas alive colors sunset', \"Runners jogged along trail hugged river 's bank enjoying scenic route\", 'Volunteers planted native bushes help stabilize bank prevent erosion', 'Misty mornings saw photographers capturing ethereal beauty bank', 'journal filled sketches notes days spent bank', \"river 's bank popular spot students study unwind\", 'Local historians discussed strategic importance river bank ancient times', 'series small boats moored along bank bobbing gently current', 'Couples strolled hand hand taking peaceful atmosphere bank', 'festival lanterns floated river illuminating bank soft light', 'annual regatta drew crowds bank cheers echoing across water', 'Campers found secluded spot along bank set tents', \"children 's laughter echoed played hide seek behind trees bank\", 'Birds chirped melodiously creating symphony sounds along bank morning', 'conservation group led nature walk pointing various wildlife habitats along bank', 'found solace sitting bank fishing line cast flowing water', 'spring meltwater rushed along swelling river flooding parts bank', 'Erosion marks visible river gnawed away bank years', 'group ducks nested reeds along bank undisturbed passersby', 'local rowing club practiced near bank oars slicing water rhythmically', 'bank riot colors autumn trees shed leaves final display', 'Environmentalists gave talk flora fauna found along bank local school children', 'read book nestled tree bank completely absorbed world', 'walking path along bank offered breathtaking views mountains beyond', 'Musicians gathered bank impromptu concert attracting small crowd', \"river 's gentle flow soothing background noise yoga enthusiasts bank\", 'family otters spotted playing near bank delighting onlookers', 'local university conducted ecological studies taking samples soil along bank', 'Snow covered bank winter transforming quiet white expanse', 'bank setting scene popular movie drawing tourists spot', 'water near bank clear enough see pebbles fish swimming beneath', 'Adventure seekers launched inflatable rafts bank excited journey ahead', 'high tide water lapped gently bank creating calming rhythm', 'Geese returned bank year lay eggs safety tall grasses', 'bank dotted large stones perfect sitting watching world go', 'local artist set easel bank trying capture evening light canvas', 'children learned skip stones using flat rocks found along bank', 'bridge spanned river offering perfect view bank', 'bank favorite location local geocachers hid small treasures nooks crannies', 'bat flew low bank hunting insects twilight hours', 'moon cast silvery glow bank transforming magical landscape', 'chill wind swept across bank rustling dry leaves bending tall grasses', 'sketched various mushrooms sprang along bank rain', 'bank perfect backdrop wedding photos river reflecting joyous occasion', 'heron stalked shallow water near bank eyeing prey intense focus', 'Children splashed shallows giggles shouts filling air around bank', 'bank alive buzzing bees fluttering butterflies wildflowers', 'local science class tested water quality studied sediment bank', 'taught granddaughter fish along bank passing skills stories', 'celebrated golden anniversary picnic bank surrounded family friends', 'Frost sparkled grasses along bank crisp underfoot early morning light', 'group friends played frisbee flat part bank laughter carrying across water', 'bank meeting point community whether celebration solace', 'Lone anglers enjoyed solitude bank thoughts meandering river', 'bank strewn petals storm carpet pink white green', 'Wild ponies sometimes grazed near bank presence adding pastoral beauty', 'drama club performed open-air play bank using natural setting stage', 'found old canoe half-buried sand along bank set restoring', 'bank canvas green grass leafy branches dipped towards water', 'fish jumped near bank splash brief disturbance otherwise serene setting', 'children made leaf boats raced along bank cheering makeshift vessels', 'Photographers captured sunrise bank early light turning river molten gold', 'bank canopy trees whispering reeds natural sanctuary bustling town nearby', \"local environmental group installed information signs along bank educating passersby river 's ecosystem\", 'Night fishing along bank peaceful pursuit stars overhead company', 'cycling tour paused bank riders resting refilling water bottles cool stream', 'Old stone steps led bank worn smooth feet countless visitors', 'river bank subject local poet ’ latest work celebrated reading water', 'bank ’ gentle incline dotted daisies buttercups swaying gentle river breeze', 'lost dog found sleeping bank happily reunited owner community', 'Local legend held ghost wandered bank forever looking river loved life', 'bank start nature trail wound way woods fields beyond', 'Elderly couples often visited bank sharing benches memories times gone', 'bank sometimes quiet place contemplation serene landscape balm weary spirits', 'river bank ever-changing light shadow favorite study subject group art students', 'annual spring fair bank lined stalls selling crafts local produce', 'small jetty jutted river bank launching point small rowboats canoes', 'river bank occasionally flooded spring always emerged lush vibrant', 'wrote love letters bank inspired beauty quiet water ’ edge', 'children ’ library held story time sessions bank tales unfolding open sky', 'Wild plum trees along bank offered sweet treat wandered close', 'bank marked series large flat rocks ideal sunbathing sitting watching river flow', 'Local conservation efforts helped restore bank natural state much delight visited', 'practiced photography along bank capturing interplay light water flora fauna', 'bank sometimes scene community art projects natural beauty inspiring collective creativity', 'autumn bank became patchwork color leaves myriad hues blanketing ground', 'quiet bend river bank known stunning reflections sky trees calm waters', 'morning mist lingered around bank creating dreamlike atmosphere', 'daily walks along bank time connect nature unwind', 'found old rowboat washed bank remnant past floods', 'Local poets held readings bank words mingling sounds flowing water', 'taught son skim rocks across water bank', 'bank popular spot sunset watchers came see sky blaze color', 'wooden bench bank offered perfect view river curving distance', 'spring bank blanketed bluebells transforming area blue paradise', 'bank rendezvous old friends fished waters side side', 'series stepping stones across shallow part river started bank', 'Wild geese landed bank migration temporary rest long journey', 'calm waters near bank ideal beginners learning kayak', 'Floodlights illuminated bank night festival creating shadows light plays', 'collected smooth flat stones bank garden project home', \"bank community 's favorite backdrop wedding graduation photos\", 'spring thaw water levels rose swiftly often submerging bank water', 'released rehabilitated wildlife back nature bank fitting habitat new beginnings', 'Hikers enjoyed well-earned rest bank completing long trail paralleled river', 'children ’ laughter filled air chased around bank', 'naturalist guided group students field trip study ecosystem bank', 'bank array native plants study sustainable landscaping', 'Boulders scattered along bank provided rugged charm landscape', 'soft carpet moss covered parts bank cushioning footsteps walked', 'river bank sometimes home artists seeking inspiration next masterpiece', 'Old gnarled tree roots gripped bank tightly preventing soil erosion', 'bank served natural boundary two neighboring towns', 'Migratory birds used bank stopover rich resources boon long flights', 'annual river bank clean-up helped maintain beauty health cherished spot', 'faded sign bank warned strong currents reminder river ’ power', 'bank silent witness changing seasons leaving mark landscape', 'Students local university conducted water quality tests bank', 'picnic area bank setting many family reunions community gatherings', 'gentle slope bank made excellent launch site small boats', 'chalky soil bank home colony rare insects', 'metal detector enthusiast scanned bank hoping unearth hidden treasures', 'bank ’ vegetation thrived nourished nutrient-rich silt deposited river', 'Dog walkers frequented bank pets frolicking open spaces', 'local legend claimed ghost ship appeared near bank foggy nights', 'Birdhouses dotted bank part project encourage nesting area', 'sat sketching old bridge quiet corner bank', 'bank finish line annual charity raft race', 'lone musician played guitar bank music blending sounds river', 'crunch gravel underfoot accompanied walkers along bank ’ path', 'river ’ bank living classroom biology students studying aquatic life', 'Every year bank burst color wild azaleas bloomed', 'community theater staged play bank using river natural backdrop', 'lost boat paddle washed bank found morning jogger', 'bank home series exercise stations part fitness trail', 'old rusted bicycle lay half-buried sand bank ’ edge', 'bank quiet place many came ponder life ’ big questions', 'heat summer cool bank offered respite sun ’ intensity', 'bank lined pebbles rocks glistened rain', 'Local scouts built small jetty bank boating activities', 'couple renewed vows bank celebrating decades marriage', 'group friends played guitars sang campfire bank', 'bank occasionally submerged river overflowed rainy season', 'small informal market took place bank every weekend', 'bank part larger effort create green spaces along river', 'Herbalists gathered medicinal plants grew abundantly bank', 'soft murmur river accompanied meditated bank', 'local beekeeper placed hives along bank bees benefiting diverse flora', 'bank perfect spot stargazing away city lights', 'impromptu dance party sprang bank annual summer festival', 'series informative plaques bank detailed river ’ history ecology', 'river bank setting well-known local photographer ’ iconic images', 'youth group launched small hand-made boats bank science experiment', 'bank sometimes canvas snow artists sculpted figures fresh powder', 'Every spring floodwaters receded reveal newly shaped bank altered familiar', 'local environmental group set temporary observation post bank monitor wildlife', 'bank backdrop countless proposals intimate moments shared couples', 'Jazz musicians held small concert bank melodies floating water', 'low tide bank revealed layers rock sediment geologist ’ delight', 'bank dotted lanterns night walk part local nature festival', 'Local children learned identify different types fish field trip bank', 'bank starting point annual dragon boat races', 'scattered grandfather ’ ashes bank place cherished memories', 'bank ’ lush grass site many yoga sessions attended locals visitors alike', 'annual poetry reading bank attracted poets listeners around region', 'bank often depicted local artwork celebrated natural beauty', 'Wildlife cameras captured nightly activities river otters bank', 'local school ’ environmental club planted trees along bank year', 'bank sometimes seeking solace urban hustle', 'town ’ history day actors reenacted historical events bank', 'bank wide open space often used kite flying competitions', 'used quiet early morning bank practice tai chi movements', 'river bank favorite spot local anglers lines cast hopeful anticipation', 'bank bustling community ’ annual clean-up day everyone working together', 'quiet contemplative artist often painted changing scenes bank throughout seasons', 'bank site small informal gathering local musicians week', 'Old worn paths along bank bore witness countless feet wandered', 'fall bank became tapestry colors leaves changed', 'local wildlife conservation society regularly conducted surveys along bank', 'group environmental science students sampled river water bank studies', 'bank popular spot outdoor enthusiasts appreciated natural scenery', 'small wooden dock extended river bank used fishers swimmers', 'bank often scene community events barbecues star-gazing nights', 'Birds various species often seen flitting trees along bank', 'bank ’ serene environment made popular spot weekend picnics', 'local artist ’ group displayed river-themed artworks along bank annual art walk', 'bank many locals felt connected natural surroundings place peace beauty']\n"
     ]
    }
   ],
   "source": [
    "filtered_river_sentences = [filter_sentence(sentence) for sentence in river_sentences]\n",
    "print(len(filtered_river_sentences))\n",
    "print (filtered_river_sentences)"
   ]
  },
  {
   "cell_type": "code",
   "execution_count": 8,
   "id": "97035b35-3d93-429d-919a-02ab72ce2d4d",
   "metadata": {},
   "outputs": [],
   "source": [
    "# Create a large list containing all sentences -- this is going to be fed into the model\n",
    "all_sentences = filtered_river_sentences + filtered_financial_sentences\n",
    "\n",
    "# Create binary labels: 0 for river, and 1 for financial -- for prediction\n",
    "river_labels = [0] * len(river_sentences)\n",
    "financial_labels = [1] * len(financial_sentences)\n",
    "all_labels = river_labels + financial_labels"
   ]
  },
  {
   "cell_type": "markdown",
   "id": "dc168490-6b9b-4c16-8edf-7574e919be20",
   "metadata": {},
   "source": [
    "#### <strong>1.3. Input Tokenization and Embedding</strong>"
   ]
  },
  {
   "cell_type": "code",
   "execution_count": 9,
   "id": "27487d44-462e-4b53-9430-9f3986193aec",
   "metadata": {},
   "outputs": [],
   "source": [
    "# Import useful packages: tensorflow, keras\n",
    "import tensorflow as tf\n",
    "from tensorflow.keras.preprocessing.sequence import pad_sequences\n",
    "from tensorflow.keras.preprocessing.text import Tokenizer"
   ]
  },
  {
   "cell_type": "markdown",
   "id": "51dd875f-b21a-44eb-85c2-a1dccd072d32",
   "metadata": {},
   "source": [
    "##### <strong>Tokenization\n",
    "* Convert sentences into collections of individual words for further vectorization</strong>\n",
    "* Apply keras in tensorflow to tokenize every sentence in the dataset"
   ]
  },
  {
   "cell_type": "code",
   "execution_count": 10,
   "id": "a4f1f104-e70d-4751-80a5-8de32ded5ae1",
   "metadata": {},
   "outputs": [
    {
     "data": {
      "text/plain": [
       "(600, 17)"
      ]
     },
     "execution_count": 10,
     "metadata": {},
     "output_type": "execute_result"
    }
   ],
   "source": [
    "tokenizer = Tokenizer()\n",
    "\n",
    "# This code gives each unique word a unique integer mark\n",
    "tokenizer.fit_on_texts(all_sentences)\n",
    "\n",
    "# Tokenize each sentences in the form of word collections\n",
    "tokenized_in_int_sentences = tokenizer.texts_to_sequences(all_sentences)\n",
    "\n",
    "# Make sure that the inputs are of equal lengths: attaching 0 to the end of each tokenized sentence that is shorter than the longest sentence\n",
    "padded_sequences = pad_sequences(tokenized_in_int_sentences, padding='post')\n",
    "padded_sequences.shape"
   ]
  },
  {
   "cell_type": "markdown",
   "id": "cc6eb6a2-55b9-4de7-9dd3-39cb18fbe5cd",
   "metadata": {},
   "source": [
    "##### <strong>Embedding</strong>"
   ]
  },
  {
   "cell_type": "markdown",
   "id": "49f1d2fa-37f4-4acd-8374-600f53ca7523",
   "metadata": {},
   "source": [
    "* In order to feed the input into a neural network, we need to convert each tokenized word (already represented by integers) into the form of a numerical vector. The entries of the vector are generated by capturing the word's contextual and semantic relations with other words. Since each word will be converted into such a vector, we will end up getting an <strong>embedding matrix</strong> with rows being the different words we have in our input dataset, and columns being the vector for each unique word.\n",
    "* Since our dataset starts fairly small, rather than creating our own embedding layer from scratch(which may increase the risk of not being able to grab and incoporate exhausitve contextual variances or overfitting), we will apply the pre-existing <strong>GoogleNews-vectors-negative300 Word2Vec embeddings</strong>, which is trained on a large corpus(Google News) to get the embeddings for words, and at the same time enable <strong>fine-tuning to our dataset</strong>. This can be conceptualized as a 'base' of our data."
   ]
  },
  {
   "cell_type": "code",
   "execution_count": 11,
   "id": "32d04e79-af83-419d-9832-795e234b64ce",
   "metadata": {},
   "outputs": [],
   "source": [
    "# Import useful packages: KeyedVectors -- text-form words into numerical vectors\n",
    "from gensim.models import KeyedVectors"
   ]
  },
  {
   "cell_type": "code",
   "execution_count": 12,
   "id": "f582ed9e-eae2-4560-a01c-5481f25274c2",
   "metadata": {},
   "outputs": [],
   "source": [
    "# Load pretrained Word2Vec embeddings\n",
    "words_vec = KeyedVectors.load_word2vec_format('/Users/guyueping/Documents/Spring2024/Psych4631/project/GoogleNews-vectors-negative300.bin', binary=True) #need to change path\n",
    "\n",
    "# Prepare the embedding matrix\n",
    "# Initialize the matrix with one additional row(to 1. deal with sentence padding; 2. resolve indexing issue, as word_index's index starts from 1 instead of 0)\n",
    "# Column: the dimension needed to represent one word\n",
    "embedding_matrix = np.zeros((len(tokenizer.word_index) + 1, words_vec.vector_size))\n",
    "for word, i in tokenizer.word_index.items():\n",
    "    try:\n",
    "        embedding_vector = words_vec[word]\n",
    "        embedding_matrix[i] = embedding_vector\n",
    "        \n",
    "    # If the word is not found in the pretrained dataset, put a zero vector instead\n",
    "    except KeyError:\n",
    "        embedding_matrix[i] = np.zeros(words_vec.vector_size)"
   ]
  },
  {
   "cell_type": "code",
   "execution_count": 13,
   "id": "a9613c4a-1c8a-4b06-9069-1500aa9d466e",
   "metadata": {},
   "outputs": [
    {
     "name": "stdout",
     "output_type": "stream",
     "text": [
      "(2041, 300)\n"
     ]
    }
   ],
   "source": [
    "print(embedding_matrix.shape)"
   ]
  },
  {
   "cell_type": "markdown",
   "id": "2edb2431-2b83-4396-a68c-4f50d34ee933",
   "metadata": {},
   "source": [
    "### <strong>2. Network Building</strong>\n",
    "* We built a 3-layer model: an embedding layer, a LSTM layer, and a dense(fully connected) layer. We utilized TensorFlow, particularly its high-level Keras API. "
   ]
  },
  {
   "cell_type": "code",
   "execution_count": 14,
   "id": "35edcae1-fc74-4edf-94ac-cbfa14a98590",
   "metadata": {},
   "outputs": [],
   "source": [
    "# Import tensorflow packages to actually build the model\n",
    "from tensorflow.keras.models import Sequential\n",
    "from tensorflow.keras.layers import Embedding, LSTM, Bidirectional, Dense"
   ]
  },
  {
   "cell_type": "markdown",
   "id": "c7171d1a-1515-4067-826c-a5a619f06fd9",
   "metadata": {},
   "source": [
    "##### <strong>2.1: Embedding Layer (1st layer)</strong>\n",
    "This layer takes indexed words as input and transforms them into dense vectors "
   ]
  },
  {
   "cell_type": "code",
   "execution_count": 15,
   "id": "8d472694-2a8c-4c6f-8d57-5056b4538525",
   "metadata": {},
   "outputs": [],
   "source": [
    "from tensorflow.keras.initializers import Constant"
   ]
  },
  {
   "cell_type": "code",
   "execution_count": 16,
   "id": "7b332bd4-6eed-474f-aabf-95c696ab72f3",
   "metadata": {},
   "outputs": [],
   "source": [
    "vocab_size = len(tokenizer.word_index) + 1\n",
    "embedding_dim = words_vec.vector_size\n",
    "\n",
    "# Create the embedding layer with trainable set to \"True\", which means the matrix can be fine-tuned to our input dataset\n",
    "embedding_layer = Embedding(input_dim=vocab_size, \n",
    "                    output_dim=embedding_dim, \n",
    "                    embeddings_initializer=Constant(embedding_matrix),\n",
    "                    trainable=True)"
   ]
  },
  {
   "cell_type": "markdown",
   "id": "80e2b324-c4ec-4b4a-9c2a-f87b1bb4d3ef",
   "metadata": {},
   "source": [
    "##### <strong>2.2: Bidirectional LSTM Layer (2nd layer)</strong>\n",
    "* We chose to construct a <strong>Long Short-Term Memory(LSTM)</strong> layer, which is a specific type of recurrent neural network(RNN) that is able to take context into account. Our inspiration is built upon Lab 3.3, which provided us with basic understanding of the bottom frame/groundword of RNN. In our project, rather than learning RNN on a restricted, simple pattern like Reber grammar, we expand this to a much larger scale on a wider range of linguistic inputs.\n",
    "* We chose to do make the LSTM bidirectional, which enables sequential processing of words both\n",
    "* 1.from beginning to the end of the sentence; \n",
    "* 2.from the end going backwards to the beginning of the sentence."
   ]
  },
  {
   "cell_type": "code",
   "execution_count": 17,
   "id": "7d0469aa-4bcd-49fd-b671-7447e94985a7",
   "metadata": {},
   "outputs": [],
   "source": [
    "# Set 128 LSTM units in the LSTM layer\n",
    "hidden_dim = 128\n",
    "biLSTM_layer = Bidirectional(LSTM(hidden_dim))"
   ]
  },
  {
   "cell_type": "markdown",
   "id": "d61beb2f-9869-48fe-9ce4-1c8f8965baea",
   "metadata": {},
   "source": [
    "##### <strong>2.3: Fully Connected(FC) Layer (3rd layer)</strong>\n",
    "\n",
    "Here we have a fully connected neural network layer where every input is connected to every output by a learned weight. This layer combine features learned by the network into predictions for the task"
   ]
  },
  {
   "cell_type": "code",
   "execution_count": 18,
   "id": "6080e9b6-6ba4-4e8d-bccb-d2d26815de63",
   "metadata": {},
   "outputs": [],
   "source": [
    "# Set one output: binary, inicating the meaning of \"bank\" in the sentence\n",
    "output_dim = 1\n",
    "dense_layer = Dense(output_dim, activation='sigmoid')"
   ]
  },
  {
   "cell_type": "markdown",
   "id": "b0a2640f-96e1-4632-852b-a28bac95821b",
   "metadata": {},
   "source": [
    "##### <strong>2.4: Construct and Compile the Model"
   ]
  },
  {
   "cell_type": "code",
   "execution_count": 19,
   "id": "1efe9b91-b920-424e-bc98-c5690ef9aa8e",
   "metadata": {},
   "outputs": [],
   "source": [
    "# Compile the model using Adaptive Moment Estimation(Adam) optimization function\n",
    "from tensorflow.keras.optimizers import Adam"
   ]
  },
  {
   "cell_type": "code",
   "execution_count": 20,
   "id": "13826498-5472-46e4-a5fc-d916d6c1ee88",
   "metadata": {},
   "outputs": [],
   "source": [
    "# Construct the model structure and add all layers\n",
    "model = Sequential()\n",
    "model.add(embedding_layer)\n",
    "model.add(biLSTM_layer)\n",
    "model.add(dense_layer)\n",
    "\n",
    "# Minimize cross entropy and get the optimized parameters\n",
    "model.compile(optimizer=Adam(), loss='binary_crossentropy', metrics=['accuracy'])"
   ]
  },
  {
   "cell_type": "markdown",
   "id": "21ed5e49-168a-420f-a306-19f67f71ce99",
   "metadata": {},
   "source": [
    "### <strong>3. Training and Testing</strong>"
   ]
  },
  {
   "cell_type": "code",
   "execution_count": 21,
   "id": "53332d67-fd36-42f1-9755-3a7bc9d92ce9",
   "metadata": {},
   "outputs": [],
   "source": [
    "# Import useful packages\n",
    "from sklearn.model_selection import train_test_split"
   ]
  },
  {
   "cell_type": "code",
   "execution_count": 22,
   "id": "c3941878-3e97-4b27-b0ee-64668cdaf9ed",
   "metadata": {},
   "outputs": [],
   "source": [
    "# Split data into training, validation, and testing sets, ratio 7:2:1\n",
    "X_train_val, X_test, y_train_val, y_test = train_test_split(padded_sequences, all_labels, test_size=0.1, random_state=42, stratify=all_labels)\n",
    "X_train, X_val, y_train, y_val = train_test_split(X_train_val, y_train_val, test_size=2/9, random_state=42, stratify=y_train_val)\n",
    "\n",
    "# Convert data types\n",
    "X_train = np.array(X_train).astype('float32')\n",
    "X_test = np.array(X_test).astype('float32')\n",
    "X_val = np.array(X_val).astype('float32')\n",
    "y_val = np.array(y_val).astype('float32')\n",
    "y_train = np.array(y_train).astype('float32')\n",
    "y_test = np.array(y_test).astype('float32')"
   ]
  },
  {
   "cell_type": "markdown",
   "id": "98598eda-ad5d-4fa7-8a50-b89e28aa2d96",
   "metadata": {},
   "source": [
    "##### <strong>3.1: Train the model</strong>"
   ]
  },
  {
   "cell_type": "code",
   "execution_count": 23,
   "id": "b21fe85d-b704-4ab4-88e5-1c84b65c2ef9",
   "metadata": {},
   "outputs": [
    {
     "name": "stdout",
     "output_type": "stream",
     "text": [
      "Epoch 1/10\n",
      "\u001b[1m14/14\u001b[0m \u001b[32m━━━━━━━━━━━━━━━━━━━━\u001b[0m\u001b[37m\u001b[0m \u001b[1m1s\u001b[0m 23ms/step - accuracy: 0.8414 - loss: 0.5414 - val_accuracy: 1.0000 - val_loss: 0.0203\n",
      "Epoch 2/10\n",
      "\u001b[1m14/14\u001b[0m \u001b[32m━━━━━━━━━━━━━━━━━━━━\u001b[0m\u001b[37m\u001b[0m \u001b[1m0s\u001b[0m 15ms/step - accuracy: 0.9940 - loss: 0.0206 - val_accuracy: 1.0000 - val_loss: 0.0090\n",
      "Epoch 3/10\n",
      "\u001b[1m14/14\u001b[0m \u001b[32m━━━━━━━━━━━━━━━━━━━━\u001b[0m\u001b[37m\u001b[0m \u001b[1m0s\u001b[0m 15ms/step - accuracy: 1.0000 - loss: 0.0021 - val_accuracy: 0.9917 - val_loss: 0.0262\n",
      "Epoch 4/10\n",
      "\u001b[1m14/14\u001b[0m \u001b[32m━━━━━━━━━━━━━━━━━━━━\u001b[0m\u001b[37m\u001b[0m \u001b[1m0s\u001b[0m 15ms/step - accuracy: 1.0000 - loss: 3.3389e-04 - val_accuracy: 0.9917 - val_loss: 0.0227\n",
      "Epoch 5/10\n",
      "\u001b[1m14/14\u001b[0m \u001b[32m━━━━━━━━━━━━━━━━━━━━\u001b[0m\u001b[37m\u001b[0m \u001b[1m0s\u001b[0m 15ms/step - accuracy: 1.0000 - loss: 3.4929e-04 - val_accuracy: 0.9917 - val_loss: 0.0153\n",
      "Epoch 6/10\n",
      "\u001b[1m14/14\u001b[0m \u001b[32m━━━━━━━━━━━━━━━━━━━━\u001b[0m\u001b[37m\u001b[0m \u001b[1m0s\u001b[0m 15ms/step - accuracy: 1.0000 - loss: 2.1988e-04 - val_accuracy: 0.9917 - val_loss: 0.0167\n",
      "Epoch 7/10\n",
      "\u001b[1m14/14\u001b[0m \u001b[32m━━━━━━━━━━━━━━━━━━━━\u001b[0m\u001b[37m\u001b[0m \u001b[1m0s\u001b[0m 20ms/step - accuracy: 1.0000 - loss: 1.9466e-04 - val_accuracy: 0.9917 - val_loss: 0.0181\n",
      "Epoch 8/10\n",
      "\u001b[1m14/14\u001b[0m \u001b[32m━━━━━━━━━━━━━━━━━━━━\u001b[0m\u001b[37m\u001b[0m \u001b[1m0s\u001b[0m 25ms/step - accuracy: 1.0000 - loss: 1.7187e-04 - val_accuracy: 0.9917 - val_loss: 0.0197\n",
      "Epoch 9/10\n",
      "\u001b[1m14/14\u001b[0m \u001b[32m━━━━━━━━━━━━━━━━━━━━\u001b[0m\u001b[37m\u001b[0m \u001b[1m0s\u001b[0m 24ms/step - accuracy: 1.0000 - loss: 1.4123e-04 - val_accuracy: 0.9917 - val_loss: 0.0168\n",
      "Epoch 10/10\n",
      "\u001b[1m14/14\u001b[0m \u001b[32m━━━━━━━━━━━━━━━━━━━━\u001b[0m\u001b[37m\u001b[0m \u001b[1m0s\u001b[0m 24ms/step - accuracy: 1.0000 - loss: 1.4471e-04 - val_accuracy: 0.9917 - val_loss: 0.0158\n"
     ]
    }
   ],
   "source": [
    "# Train the model\n",
    "training_history = model.fit(X_train, y_train, batch_size=32, shuffle = True, epochs=10, validation_data=(X_val,y_val))"
   ]
  },
  {
   "cell_type": "markdown",
   "id": "83999ee0-5237-4583-bdd0-c55de217ed84",
   "metadata": {},
   "source": [
    "##### <strong> Plot training history </strong>"
   ]
  },
  {
   "cell_type": "code",
   "execution_count": 24,
   "id": "3ae50273-313e-4f4f-a46d-29a1185d0017",
   "metadata": {},
   "outputs": [
    {
     "data": {
      "image/png": "[encoded data removed]",
      "text/plain": [
       "<Figure size 1200x600 with 2 Axes>"
      ]
     },
     "metadata": {},
     "output_type": "display_data"
    },
    {
     "name": "stdout",
     "output_type": "stream",
     "text": [
      "[1.0, 1.0, 0.9916666746139526, 0.9916666746139526, 0.9916666746139526, 0.9916666746139526, 0.9916666746139526, 0.9916666746139526, 0.9916666746139526, 0.9916666746139526]\n"
     ]
    }
   ],
   "source": [
    "# Plot the training history for accuracy and loss\n",
    "plt.figure(figsize=(12, 6))\n",
    "plt.subplot(1, 2, 1)\n",
    "plt.plot(training_history.history['accuracy'], label='Training Accuracy')\n",
    "plt.plot(training_history.history['val_accuracy'], label='Validation Accuracy')\n",
    "plt.title('Accuracy over Epochs')\n",
    "plt.xlabel('Epoch')\n",
    "plt.ylabel('Accuracy')\n",
    "plt.legend()\n",
    "\n",
    "plt.subplot(1, 2, 2)\n",
    "plt.plot(training_history.history['loss'], label='Training Loss')\n",
    "plt.plot(training_history.history['val_loss'], label='Validation Loss')\n",
    "plt.title('Loss over Epochs')\n",
    "plt.xlabel('Epoch')\n",
    "plt.ylabel('Loss')\n",
    "plt.legend()\n",
    "plt.show()\n",
    "\n",
    "print(training_history.history['val_accuracy'])"
   ]
  },
  {
   "cell_type": "markdown",
   "id": "9769ad19",
   "metadata": {},
   "source": [
    "Accuracy over Epochs: \n",
    "* Training Accuracy: Starts at approximately 0.8 and sharply increases to near 1.000 (perfect accuracy) by the third epoch. This suggests that the model rapidly learns to classify the training data accurately. The initial high accuracy might be due to pre-trained word embeddings. \n",
    "* Validation Accuracy: Begins similarly high and makes a significant jump between the second and third epochs. There's a slight decline around the fourth epoch before it stabilizes close to 1.000. The high validation accuracy indicates that the model generalizes well to new data not seen during training.\n",
    "\n",
    "Loss over Epochs\n",
    "* Training Loss: Shows a steep decrease from the initial epoch, dropping close to zero by the third epoch. This demonstrates that the model quickly minimizes the error in predictions for the training data.\n",
    "* Validation Loss: Mirrors the sharp decline seen in the training loss and levels off to a low value, with a small peak at the third epoch. The overall low validation loss corroborates the model's effectiveness on the validation set. \n",
    "\n",
    "Note: Given that we have a small dataset and a simple task, it is reasonable to see the rapid improvement in both accuracy and loss during the first few epochs. "
   ]
  },
  {
   "cell_type": "markdown",
   "id": "427b739b-6be7-472f-8324-e1b08e3ca278",
   "metadata": {},
   "source": [
    "##### <strong>3.2: Test the model</strong>\n",
    "* Test the model on pre-splitted testing set, check for accuracy"
   ]
  },
  {
   "cell_type": "code",
   "execution_count": 25,
   "id": "c3439760-a968-4726-8c78-a3f43453d2e2",
   "metadata": {},
   "outputs": [
    {
     "name": "stdout",
     "output_type": "stream",
     "text": [
      "2/2 - 0s - 8ms/step - accuracy: 1.0000 - loss: 0.0022\n",
      "Test Accuracy: 100.00%\n",
      "Test Loss: 0.0022\n"
     ]
    }
   ],
   "source": [
    "# Evaluate the model on test data\n",
    "test_loss, test_acc = model.evaluate(X_test, y_test, verbose=2)\n",
    "print(f'Test Accuracy: {test_acc*100:.2f}%')\n",
    "print(f'Test Loss: {test_loss:.4f}')"
   ]
  },
  {
   "cell_type": "code",
   "execution_count": 26,
   "id": "8a2b446f-2693-45cd-a6d3-a30ab0ec8dc5",
   "metadata": {},
   "outputs": [
    {
     "name": "stdout",
     "output_type": "stream",
     "text": [
      "\u001b[1m2/2\u001b[0m \u001b[32m━━━━━━━━━━━━━━━━━━━━\u001b[0m\u001b[37m\u001b[0m \u001b[1m0s\u001b[0m 87ms/step\n",
      "Sentence: ['bank part larger effort create green spaces along river']\n",
      "Predicted: River Bank\n",
      "Sentence: ['photographers captured sunrise bank early light turning river molten gold']\n",
      "Predicted: River Bank\n",
      "Sentence: ['contributed articles bank ’ financial education blog sharing insights market dynamics']\n",
      "Predicted: Financial Bank\n",
      "Sentence: ['bank ’ fraud alert system notified suspicious activity account']\n",
      "Predicted: Financial Bank\n",
      "Sentence: ['lone fisherman stood river bank dawn line cast quiet waters']\n",
      "Predicted: River Bank\n",
      "Sentence: ['small jetty jutted river bank launching point small rowboats canoes']\n",
      "Predicted: River Bank\n",
      "Sentence: ['bank organized financial boot camp young entrepreneurs']\n",
      "Predicted: Financial Bank\n",
      "Sentence: ['bank ’ local art sponsorship program helped foster community relations']\n",
      "Predicted: Financial Bank\n",
      "Sentence: [\"birdwatchers set tripods capturing shots migrating birds along river 's bank\"]\n",
      "Predicted: River Bank\n",
      "Sentence: ['local artist ’ group displayed river themed artworks along bank annual art walk']\n",
      "Predicted: River Bank\n"
     ]
    }
   ],
   "source": [
    "predictions = model.predict(X_test)\n",
    "predicted_classes = (predictions > 0.5).astype(int)\n",
    "\n",
    "# Print first 10 predictions\n",
    "for i in range(10):\n",
    "    print(f\"Sentence: {tokenizer.sequences_to_texts([X_test[i]])}\")\n",
    "    print(f\"Predicted: {'Financial Bank' if predicted_classes[i][0] == 1 else 'River Bank'}\")"
   ]
  },
  {
   "cell_type": "markdown",
   "id": "5116dadc-a8fa-4f52-9763-a9df112fd8ee",
   "metadata": {},
   "source": [
    "##### <strong>3.2.1: Further testing(1): check model performance on new sentences that are not included in the dataset.</strong>\n",
    "* We generated 50 new sentences each for financial bank and river bank sentences, and tested the prediction accuracy."
   ]
  },
  {
   "cell_type": "code",
   "execution_count": 27,
   "id": "04fb1d26",
   "metadata": {},
   "outputs": [],
   "source": [
    "Test_New_Input = [\n",
    "    \"The bank manager agreed to extend the loan term.\",\n",
    "    \"We met with our financial advisor at the bank to discuss investment options.\", \n",
    "    \"The bank's new policy on overdraft fees took effect last week.\", \n",
    "    \"I deposited my paycheck at the bank yesterday.\",\n",
    "    \"After moving to the city, I opened an account at a local bank.\", \n",
    "    \"The bank is offering a higher interest rate on savings accounts this month.\", \n",
    "    \"She applied for a mortgage through her bank.\", \n",
    "    \"The bank's hours are convenient for people who work late.\", \n",
    "    \"He secured a small business loan from the bank.\", \n",
    "    \"The bank installed new ATMs that are easier to use.\", \n",
    "    \"Her bank statement shows several transactions she doesn't recognize.\",     \n",
    "    \"The bank approved their loan application after a lengthy review.\", \n",
    "    \"They are considering switching banks due to better customer service elsewhere.\", \n",
    "    \"The bank sent an alert about possible fraudulent activity on my account.\", \n",
    "    \"I need to stop by the bank to get some cash.\", \n",
    "    \"The bank's mobile app makes managing finances very convenient.\", \n",
    "    \"She recommended her bank because of their excellent customer support.\", \n",
    "    \"The bank is sponsoring a community event next weekend.\", \n",
    "    \"He worked at the bank for over 15 years before retiring.\", \n",
    "    \"The bank's new branch downtown features modern technology and design.\", \n",
    "    \"Their bank offers a range of credit cards with various rewards programs.\", \n",
    "    \"I have an appointment at the bank to discuss refinancing my home.\", \n",
    "    \"The bank closed several branches to cut costs.\", \n",
    "    \"She uses her bank’s online platform to pay bills and transfer money.\", \n",
    "    \"The bank has a special program for first-time homebuyers.\", \n",
    "    \"He complained about the bank's high fees for wire transfers.\", \n",
    "    \"The bank announced a merger with another financial institution.\", \n",
    "    \"She was recognized as the bank’s employee of the month.\", \n",
    "    \"AdamThe bank requires two forms of ID to open a new account.\", \n",
    "    \"The bank's credit analyst reviewed the loan file thoroughly.\", \n",
    "    \"He is unhappy with the interest rates his bank offers.\", \n",
    "    \"The bank’s foreign exchange service is very useful for travelers.\", \n",
    "    \"They chose a bank that offers both personal and business banking services.\", \n",
    "    \"The bank's annual report shows a significant profit.\", \n",
    "    \"She’s thinking about switching to a bank with no monthly fees.\", \n",
    "    \"The bank offers financial literacy workshops for teenagers.\", \n",
    "    \"He set up a recurring payment through his bank’s bill pay service.\", \n",
    "    \"The bank provides a notary service free of charge for account holders.\", \n",
    "    \"Their bank was robbed yesterday, but no one was injured.\", \n",
    "    \"The bank’s mortgage rates are competitive with other local institutions.\", \n",
    "    \"She lost her bank card and had to request a new one.\", \n",
    "    \"The bank’s customer satisfaction ratings have improved this year.\", \n",
    "    \"He uses the bank’s chat service for quick questions about his account.\",\n",
    "    \"The bank offers a high-yield account for larger deposits.\", \n",
    "    \"She was cautious about giving out her bank details online.\", \n",
    "    \"The bank's loan officer provided several options to consider.\", \n",
    "    \"He appreciated the bank’s efforts to secure his financial information.\", \n",
    "    \"The bank is recognized for its commitment to environmental sustainability.\", \n",
    "    \"They received a bank statement that detailed all last month’s transactions.\",\n",
    "    \"She negotiated a better interest rate with her bank.\",\n",
    "    \"We set up our picnic on the grassy river bank.\",\n",
    "    \"The river bank was crowded with fishermen early in the morning.\", \n",
    "    \"They walked along the bank, looking for a good spot to swim.\", \n",
    "    \"The river's bank was steep and slippery after the rain.\", \n",
    "    \"Wildflowers grew abundantly along the sunlit bank.\", \n",
    "    \"Kids were playing and splashing near the river bank.\", \n",
    "    \"The bank of the river was a popular spot for bird watching.\", \n",
    "    \"We found a quiet place on the bank to sit and talk.\", \n",
    "    \"The floodwaters rose, threatening to breach the river bank.\", \n",
    "    \"They built a small fire on the bank as the sun set.\", \n",
    "    \"The hiking trail followed the river bank for several miles.\", \n",
    "    \"The bank was eroding, and the trees were at risk of falling into the river.\", \n",
    "    \"Animals frequently visited the river bank to drink in the cool of the evening.\", \n",
    "    \"She sketched the peaceful scene from the bank.\", \n",
    "    \"The bank was dotted with footprints from various wildlife.\", \n",
    "    \"Every summer, they camped on the same river bank.\", \n",
    "    \"The bank was a mix of sand and rocks, ideal for skipping stones.\", \n",
    "    \"She collected shells along the wet bank of the river.\", \n",
    "    \"The river bank offered a perfect view of the sunrise.\", \n",
    "    \"They noticed tracks along the bank leading to the water’s edge.\", \n",
    "    \"The bank had been reinforced with boulders to prevent erosion.\", \n",
    "    \"Wild horses were seen grazing near the river bank.\", \n",
    "    \"He taught his son to fish from the bank.\", \n",
    "    \"The festival was held on the wide bank of the river.\", \n",
    "    \"A wooden bench was installed on the bank for visitors to enjoy the view.\", \n",
    "    \"The river bank was lined with willow trees, their branches touching the water.\",\n",
    "    \"Local artists painted the serene bank at dusk.\", \n",
    "    \"They explored the river bank, looking for interesting rocks.\", \n",
    "    \"The river bank was a vital habitat for local wildlife.\", \n",
    "    \"Flood markers showed how high the water had reached on the bank.\", \n",
    "    \"The children built a sandcastle on the muddy bank.\", \n",
    "    \"Birdwatchers gathered at the river bank to observe migrating ducks.\", \n",
    "    \"The bank was the perfect spot for their annual family photo.\", \n",
    "    \"A beaver dam was visible from the opposite bank.\", \n",
    "    \"The river bank was quieter in the fall, as tourists left for the season.\" ,\n",
    "    \"Kayakers pulled up onto the bank to rest and eat lunch.\", \n",
    "    \"They found an old canoe half-buried in the bank.\", \n",
    "    \"The bank was a riot of color in spring with all the wildflowers blooming.\", \n",
    "    \"The river bank was a popular jogging path for locals.\", \n",
    "    \"He proposed to her on the bank under the stars.\", \n",
    "    \"A gentle slope led down to the river bank, making access easy.\", \n",
    "    \"The bank was covered in a blanket of snow in the winter.\", \n",
    "    \"They planted trees along the bank to help stabilize the soil.\", \n",
    "    \"The bank was a perfect natural amphitheater for the concert.\", \n",
    "    \"She left small pebbles on the bank as markers for her return journey.\", \n",
    "    \"The campers were advised to keep their site clean on the river bank.\", \n",
    "    \"Footbridges spanned the narrowest parts of the bank.\", \n",
    "    \"He found an old fishing lure tangled in the bushes on the bank.\", \n",
    "    \"The river bank echoed with the sounds of frogs at night.\", \n",
    "    \"They had a tradition of watching the fireworks show from the river bank.\"    \n",
    "]"
   ]
  },
  {
   "cell_type": "code",
   "execution_count": 28,
   "id": "c50d4448-91ea-490c-b742-e0affd958f24",
   "metadata": {},
   "outputs": [
    {
     "name": "stdout",
     "output_type": "stream",
     "text": [
      "\u001b[1m4/4\u001b[0m \u001b[32m━━━━━━━━━━━━━━━━━━━━\u001b[0m\u001b[37m\u001b[0m \u001b[1m0s\u001b[0m 2ms/step \n",
      "Sentence: The bank manager agreed to extend the loan term.\n",
      "Predicted: Financial Bank\n",
      "Sentence: We met with our financial advisor at the bank to discuss investment options.\n",
      "Predicted: Financial Bank\n",
      "Sentence: The bank's new policy on overdraft fees took effect last week.\n",
      "Predicted: Financial Bank\n",
      "Sentence: I deposited my paycheck at the bank yesterday.\n",
      "Predicted: Financial Bank\n",
      "Sentence: After moving to the city, I opened an account at a local bank.\n",
      "Predicted: Financial Bank\n",
      "Sentence: The bank is offering a higher interest rate on savings accounts this month.\n",
      "Predicted: Financial Bank\n",
      "Sentence: She applied for a mortgage through her bank.\n",
      "Predicted: Financial Bank\n",
      "Sentence: The bank's hours are convenient for people who work late.\n",
      "Predicted: Financial Bank\n",
      "Sentence: He secured a small business loan from the bank.\n",
      "Predicted: Financial Bank\n",
      "Sentence: The bank installed new ATMs that are easier to use.\n",
      "Predicted: Financial Bank\n",
      "Sentence: Her bank statement shows several transactions she doesn't recognize.\n",
      "Predicted: Financial Bank\n",
      "Sentence: The bank approved their loan application after a lengthy review.\n",
      "Predicted: Financial Bank\n",
      "Sentence: They are considering switching banks due to better customer service elsewhere.\n",
      "Predicted: Financial Bank\n",
      "Sentence: The bank sent an alert about possible fraudulent activity on my account.\n",
      "Predicted: Financial Bank\n",
      "Sentence: I need to stop by the bank to get some cash.\n",
      "Predicted: Financial Bank\n",
      "Sentence: The bank's mobile app makes managing finances very convenient.\n",
      "Predicted: Financial Bank\n",
      "Sentence: She recommended her bank because of their excellent customer support.\n",
      "Predicted: Financial Bank\n",
      "Sentence: The bank is sponsoring a community event next weekend.\n",
      "Predicted: Financial Bank\n",
      "Sentence: He worked at the bank for over 15 years before retiring.\n",
      "Predicted: Financial Bank\n",
      "Sentence: The bank's new branch downtown features modern technology and design.\n",
      "Predicted: Financial Bank\n",
      "Sentence: Their bank offers a range of credit cards with various rewards programs.\n",
      "Predicted: Financial Bank\n",
      "Sentence: I have an appointment at the bank to discuss refinancing my home.\n",
      "Predicted: Financial Bank\n",
      "Sentence: The bank closed several branches to cut costs.\n",
      "Predicted: Financial Bank\n",
      "Sentence: She uses her bank’s online platform to pay bills and transfer money.\n",
      "Predicted: Financial Bank\n",
      "Sentence: The bank has a special program for first-time homebuyers.\n",
      "Predicted: Financial Bank\n",
      "Sentence: He complained about the bank's high fees for wire transfers.\n",
      "Predicted: Financial Bank\n",
      "Sentence: The bank announced a merger with another financial institution.\n",
      "Predicted: Financial Bank\n",
      "Sentence: She was recognized as the bank’s employee of the month.\n",
      "Predicted: Financial Bank\n",
      "Sentence: AdamThe bank requires two forms of ID to open a new account.\n",
      "Predicted: Financial Bank\n",
      "Sentence: The bank's credit analyst reviewed the loan file thoroughly.\n",
      "Predicted: Financial Bank\n",
      "Sentence: He is unhappy with the interest rates his bank offers.\n",
      "Predicted: Financial Bank\n",
      "Sentence: The bank’s foreign exchange service is very useful for travelers.\n",
      "Predicted: Financial Bank\n",
      "Sentence: They chose a bank that offers both personal and business banking services.\n",
      "Predicted: Financial Bank\n",
      "Sentence: The bank's annual report shows a significant profit.\n",
      "Predicted: Financial Bank\n",
      "Sentence: She’s thinking about switching to a bank with no monthly fees.\n",
      "Predicted: Financial Bank\n",
      "Sentence: The bank offers financial literacy workshops for teenagers.\n",
      "Predicted: Financial Bank\n",
      "Sentence: He set up a recurring payment through his bank’s bill pay service.\n",
      "Predicted: Financial Bank\n",
      "Sentence: The bank provides a notary service free of charge for account holders.\n",
      "Predicted: Financial Bank\n",
      "Sentence: Their bank was robbed yesterday, but no one was injured.\n",
      "Predicted: Financial Bank\n",
      "Sentence: The bank’s mortgage rates are competitive with other local institutions.\n",
      "Predicted: Financial Bank\n",
      "Sentence: She lost her bank card and had to request a new one.\n",
      "Predicted: Financial Bank\n",
      "Sentence: The bank’s customer satisfaction ratings have improved this year.\n",
      "Predicted: Financial Bank\n",
      "Sentence: He uses the bank’s chat service for quick questions about his account.\n",
      "Predicted: Financial Bank\n",
      "Sentence: The bank offers a high-yield account for larger deposits.\n",
      "Predicted: Financial Bank\n",
      "Sentence: She was cautious about giving out her bank details online.\n",
      "Predicted: Financial Bank\n",
      "Sentence: The bank's loan officer provided several options to consider.\n",
      "Predicted: Financial Bank\n",
      "Sentence: He appreciated the bank’s efforts to secure his financial information.\n",
      "Predicted: Financial Bank\n",
      "Sentence: The bank is recognized for its commitment to environmental sustainability.\n",
      "Predicted: Financial Bank\n",
      "Sentence: They received a bank statement that detailed all last month’s transactions.\n",
      "Predicted: Financial Bank\n",
      "Sentence: She negotiated a better interest rate with her bank.\n",
      "Predicted: Financial Bank\n",
      "Sentence: We set up our picnic on the grassy river bank.\n",
      "Predicted: River Bank\n",
      "Sentence: The river bank was crowded with fishermen early in the morning.\n",
      "Predicted: River Bank\n",
      "Sentence: They walked along the bank, looking for a good spot to swim.\n",
      "Predicted: River Bank\n",
      "Sentence: The river's bank was steep and slippery after the rain.\n",
      "Predicted: River Bank\n",
      "Sentence: Wildflowers grew abundantly along the sunlit bank.\n",
      "Predicted: River Bank\n",
      "Sentence: Kids were playing and splashing near the river bank.\n",
      "Predicted: River Bank\n",
      "Sentence: The bank of the river was a popular spot for bird watching.\n",
      "Predicted: River Bank\n",
      "Sentence: We found a quiet place on the bank to sit and talk.\n",
      "Predicted: River Bank\n",
      "Sentence: The floodwaters rose, threatening to breach the river bank.\n",
      "Predicted: River Bank\n",
      "Sentence: They built a small fire on the bank as the sun set.\n",
      "Predicted: River Bank\n",
      "Sentence: The hiking trail followed the river bank for several miles.\n",
      "Predicted: River Bank\n",
      "Sentence: The bank was eroding, and the trees were at risk of falling into the river.\n",
      "Predicted: River Bank\n",
      "Sentence: Animals frequently visited the river bank to drink in the cool of the evening.\n",
      "Predicted: River Bank\n",
      "Sentence: She sketched the peaceful scene from the bank.\n",
      "Predicted: River Bank\n",
      "Sentence: The bank was dotted with footprints from various wildlife.\n",
      "Predicted: River Bank\n",
      "Sentence: Every summer, they camped on the same river bank.\n",
      "Predicted: River Bank\n",
      "Sentence: The bank was a mix of sand and rocks, ideal for skipping stones.\n",
      "Predicted: River Bank\n",
      "Sentence: She collected shells along the wet bank of the river.\n",
      "Predicted: River Bank\n",
      "Sentence: The river bank offered a perfect view of the sunrise.\n",
      "Predicted: River Bank\n",
      "Sentence: They noticed tracks along the bank leading to the water’s edge.\n",
      "Predicted: River Bank\n",
      "Sentence: The bank had been reinforced with boulders to prevent erosion.\n",
      "Predicted: River Bank\n",
      "Sentence: Wild horses were seen grazing near the river bank.\n",
      "Predicted: River Bank\n",
      "Sentence: He taught his son to fish from the bank.\n",
      "Predicted: River Bank\n",
      "Sentence: The festival was held on the wide bank of the river.\n",
      "Predicted: River Bank\n",
      "Sentence: A wooden bench was installed on the bank for visitors to enjoy the view.\n",
      "Predicted: River Bank\n",
      "Sentence: The river bank was lined with willow trees, their branches touching the water.\n",
      "Predicted: River Bank\n",
      "Sentence: Local artists painted the serene bank at dusk.\n",
      "Predicted: River Bank\n",
      "Sentence: They explored the river bank, looking for interesting rocks.\n",
      "Predicted: River Bank\n",
      "Sentence: The river bank was a vital habitat for local wildlife.\n",
      "Predicted: River Bank\n",
      "Sentence: Flood markers showed how high the water had reached on the bank.\n",
      "Predicted: River Bank\n",
      "Sentence: The children built a sandcastle on the muddy bank.\n",
      "Predicted: River Bank\n",
      "Sentence: Birdwatchers gathered at the river bank to observe migrating ducks.\n",
      "Predicted: River Bank\n",
      "Sentence: The bank was the perfect spot for their annual family photo.\n",
      "Predicted: River Bank\n",
      "Sentence: A beaver dam was visible from the opposite bank.\n",
      "Predicted: River Bank\n",
      "Sentence: The river bank was quieter in the fall, as tourists left for the season.\n",
      "Predicted: River Bank\n",
      "Sentence: Kayakers pulled up onto the bank to rest and eat lunch.\n",
      "Predicted: River Bank\n",
      "Sentence: They found an old canoe half-buried in the bank.\n",
      "Predicted: River Bank\n",
      "Sentence: The bank was a riot of color in spring with all the wildflowers blooming.\n",
      "Predicted: River Bank\n",
      "Sentence: The river bank was a popular jogging path for locals.\n",
      "Predicted: River Bank\n",
      "Sentence: He proposed to her on the bank under the stars.\n",
      "Predicted: Financial Bank\n",
      "Sentence: A gentle slope led down to the river bank, making access easy.\n",
      "Predicted: River Bank\n",
      "Sentence: The bank was covered in a blanket of snow in the winter.\n",
      "Predicted: River Bank\n",
      "Sentence: They planted trees along the bank to help stabilize the soil.\n",
      "Predicted: River Bank\n",
      "Sentence: The bank was a perfect natural amphitheater for the concert.\n",
      "Predicted: River Bank\n",
      "Sentence: She left small pebbles on the bank as markers for her return journey.\n",
      "Predicted: River Bank\n",
      "Sentence: The campers were advised to keep their site clean on the river bank.\n",
      "Predicted: River Bank\n",
      "Sentence: Footbridges spanned the narrowest parts of the bank.\n",
      "Predicted: River Bank\n",
      "Sentence: He found an old fishing lure tangled in the bushes on the bank.\n",
      "Predicted: River Bank\n",
      "Sentence: The river bank echoed with the sounds of frogs at night.\n",
      "Predicted: River Bank\n",
      "Sentence: They had a tradition of watching the fireworks show from the river bank.\n",
      "Predicted: River Bank\n",
      "Prediction accuracy for bank-financial:\n",
      "1.0\n",
      "Prediction accuracy for bank-river:\n",
      "0.96\n"
     ]
    }
   ],
   "source": [
    "test_new_sequences = tokenizer.texts_to_sequences(Test_New_Input)\n",
    "test_new_padded = pad_sequences(test_new_sequences, padding='post')\n",
    "X_new_test = np.array(test_new_padded).astype('float32')\n",
    "\n",
    "new_predictions = model.predict(X_new_test)\n",
    "new_predicted_classes = (new_predictions > 0.5).astype(int)\n",
    "for i in range(len(X_new_test)):\n",
    "    print(f\"Sentence: {Test_New_Input[i]}\")\n",
    "    print(f\"Predicted: {'Financial Bank' if new_predicted_classes[i][0] == 1 else 'River Bank'}\")\n",
    "\n",
    "new_predicted_classes_fsentences = new_predicted_classes[0:50]\n",
    "new_predicted_classes_rsentences = new_predicted_classes[51:100]\n",
    "print(\"Prediction accuracy for bank-financial:\")\n",
    "print(len(new_predicted_classes_fsentences[new_predicted_classes_fsentences == 1])/50)\n",
    "print(\"Prediction accuracy for bank-river:\")\n",
    "print(len(new_predicted_classes_rsentences[new_predicted_classes_rsentences == 0])/50)"
   ]
  },
  {
   "cell_type": "markdown",
   "id": "9156d84e-3df7-472a-8973-dd8736bf7bfb",
   "metadata": {},
   "source": [
    "We can see that prediction of bank-financial sentences achieved an accuracy of 1.0, and prediction of bank-river sentences achieved an accuracy of 0.96. This suggests that our model has good ability to be generalized to new inputs."
   ]
  },
  {
   "cell_type": "markdown",
   "id": "d8653bbf-4ac9-473c-a2cd-f3fc2c5c73b8",
   "metadata": {},
   "source": [
    "##### <strong>3.2.2: Further testing(2): check and compare model performance on rich-context sentences and poor-context sentences.</strong>\n",
    "* In this part of further testing, we want to validate again that the sentence context influences/decides the model's prediction. Therefore, we generated 100 high-context \"financial bank\" sentences and 100 \"low-context\" sentences where the meaning of \"bank\" is hard to tell(i.e context is insufficient/unclear). We expect that the percentage of predicting \"bank\" as \"financial bank\" would be much higher for the high-context sentences, and the low-context sentences may get random predictions yielding this percentage to be around 0.5."
   ]
  },
  {
   "cell_type": "code",
   "execution_count": 29,
   "id": "a66067bd-0854-4296-a90d-d733622f15de",
   "metadata": {},
   "outputs": [],
   "source": [
    "# 100 high-context sentences that clearly indicate \"bank-financial\"\n",
    "new_input_highContext = [\n",
    "    \"She deposited her paycheck at the bank yesterday.\",\n",
    "    \"The bank approved my loan application this morning.\",\n",
    "    \"I need to stop by the bank to get some cash.\",\n",
    "    \"He works as a manager at the local bank.\",\n",
    "    \"The bank's interest rates have gone up again.\",\n",
    "    \"She discussed her mortgage options with the bank officer.\",\n",
    "    \"The bank is closed on weekends and public holidays.\",\n",
    "    \"I received a fraud alert from my bank this afternoon.\",\n",
    "    \"The bank has several branches throughout the city.\",\n",
    "    \"He needs to transfer money from his bank account.\",\n",
    "    \"She regularly checks her bank statements for any discrepancies.\",\n",
    "    \"The bank's ATM was out of service.\",\n",
    "    \"He got a better credit card offer from another bank.\",\n",
    "    \"She set up a savings account at the bank for her son.\",\n",
    "    \"The bank's customer service has really improved.\",\n",
    "    \"I have to go to the bank to close my account.\",\n",
    "    \"The bank granted them a home improvement loan.\",\n",
    "    \"He complained about the hidden fees his bank charged him.\",\n",
    "    \"She works in the bank's corporate headquarters downtown.\",\n",
    "    \"The bank's new policy will affect many customers.\",\n",
    "    \"He was waiting in line at the bank for half an hour.\",\n",
    "    \"The bank's new app lets you manage your finances more easily.\",\n",
    "    \"She forgot her PIN at the bank machine.\",\n",
    "    \"The bank issued a recall of defective credit cards.\",\n",
    "    \"He is consulting with his bank about investing in stocks.\",\n",
    "    \"The bank offers a good interest rate for time deposits.\",\n",
    "    \"She was impressed by the bank's quick response to her query.\",\n",
    "    \"The bank is offering a seminar on personal finance management.\",\n",
    "    \"He chose that bank because it has no annual fees.\",\n",
    "    \"The bank's fraud prevention system is very sophisticated.\",\n",
    "    \"She was awarded employee of the month by her bank.\",\n",
    "    \"The bank's branch near my house is very convenient.\",\n",
    "    \"He reviews his bank transactions every week.\",\n",
    "    \"The bank is renovating its main lobby.\",\n",
    "    \"She needed a bank statement to apply for a visa.\",\n",
    "    \"The bank has a special offer for new clients.\",\n",
    "    \"He disputed a charge on his bank account.\",\n",
    "    \"The bank provides excellent financial advisory services.\",\n",
    "    \"She uses her bank's mobile app to pay bills.\",\n",
    "    \"The bank's website was down for maintenance yesterday.\",\n",
    "    \"He received a promotional email from his bank.\",\n",
    "    \"The bank's loan officer explained the terms clearly.\",\n",
    "    \"She appreciates the bank's effort to go green.\",\n",
    "    \"The bank's annual report showed significant profit.\",\n",
    "    \"He got a secure job at a bank.\",\n",
    "    \"The bank's wire transfer fees are quite high.\",\n",
    "    \"She negotiated a lower interest rate with the bank.\",\n",
    "    \"The bank has a strict policy on loan repayments.\",\n",
    "    \"He used the bank's night deposit service.\",\n",
    "    \"The bank will charge a penalty for early withdrawal of the fixed deposit.\",\n",
    "    \"She was directed to the bank's helpdesk for assistance.\",\n",
    "    \"The bank offers free financial planning consultations.\",\n",
    "    \"He was worried about the bank's solvency during the crisis.\",\n",
    "    \"The bank's quarterly earnings exceeded expectations.\",\n",
    "    \"She recommended her bank to her friends.\",\n",
    "    \"The bank requires two forms of ID to open an account.\",\n",
    "    \"He read a review about the bank online.\",\n",
    "    \"The bank's parking lot is always full.\",\n",
    "    \"She was greeted warmly at the bank.\",\n",
    "    \"The bank's credit card has the best rewards program.\",\n",
    "    \"He checked the bank's stock price online.\",\n",
    "    \"The bank's teller was very helpful.\",\n",
    "    \"She attended a mortgage workshop hosted by the bank.\",\n",
    "    \"The bank is known for its charitable donations.\",\n",
    "    \"He updated his contact information at the bank.\",\n",
    "    \"The bank has installed new security cameras.\",\n",
    "    \"She got a job offer from a top bank.\",\n",
    "    \"The bank will hold her check for three days before it clears.\",\n",
    "    \"He is responsible for auditing the bank's accounts.\",\n",
    "    \"The bank's branch manager was promoted.\",\n",
    "    \"She was confused by the bank's new regulations.\",\n",
    "    \"The bank's annual picnic is next weekend.\",\n",
    "    \"He used the bank's calculator to estimate his loan.\",\n",
    "    \"The bank sent him a new debit card.\",\n",
    "    \"She closed her higher-interest bank account.\",\n",
    "    \"The bank is very strict about its dress code.\",\n",
    "    \"He chose the bank based on its ethical investment policies.\",\n",
    "    \"The bank has several automated teller machines in the area.\",\n",
    "    \"She was contacted by the bank regarding her account security.\",\n",
    "    \"The bank's financial analysts are forecasting growth.\",\n",
    "    \"He was annoyed by the bank's slow loan processing.\",\n",
    "    \"The bank has a branch at the airport.\",\n",
    "    \"She had to provide her social security number to the bank.\",\n",
    "    \"The bank reimbursed him for the ATM fee.\",\n",
    "    \"He's reading a history of the oldest banks in the country.\",\n",
    "    \"The bank's marketing campaign is targeting young adults.\",\n",
    "    \"She received a letter from the bank confirming her address change.\",\n",
    "    \"The bank's board of directors met yesterday.\",\n",
    "    \"He was impressed by the bank's community involvement.\",\n",
    "    \"The bank is participating in a federal loan program.\",\n",
    "    \"She set a password for her bank account online.\",\n",
    "    \"The bank's lobby features art from local artists.\",\n",
    "    \"He reviewed the bank's policies before opening an account.\",\n",
    "    \"The bank's safety deposit boxes are almost fully booked.\",\n",
    "    \"She uses only her bank's ATMs to avoid fees.\",\n",
    "    \"The bank's building is a city landmark.\",\n",
    "    \"He learned about the bank's student loan options.\",\n",
    "    \"The bank's investment in technology has paid off.\",\n",
    "    \"She has to update her beneficiary information at the bank.\",\n",
    "    \"The bank plans to expand its operations next year.\",\n",
    "]\n",
    "\n",
    "# 100 low-context sentences where \"bank\"'s meaning is ambiguous/hard to be determined\n",
    "new_input_lowContext = [\n",
    "    \"She mentioned going to the bank before it closed.\",\n",
    "    \"They found the bank quiet that afternoon.\",\n",
    "    \"We'll meet at the bank after lunch.\",\n",
    "    \"He left his notebook on the bank.\",\n",
    "    \"There are plans to renovate the old bank.\",\n",
    "    \"She took a job at the bank downtown.\",\n",
    "    \"The bank was unusually busy today.\",\n",
    "    \"After discussing their plans at the bank, they decided to have lunch by the water.\",\n",
    "    \"She found the bank quite relaxing and spent the afternoon there contemplating her next steps.\",\n",
    "    \"He walked past the bank on his way to the park.\",\n",
    "    \"They decided to paint the bank over the weekend.\",\n",
    "    \"I'll see you at the bank tomorrow morning.\",\n",
    "    \"The bank is closed on Sundays.\",\n",
    "    \"She often spent time sitting by the bank.\",\n",
    "    \"They discussed the situation on their way to the bank.\",\n",
    "    \"He noticed something unusual at the bank.\",\n",
    "    \"She stopped by the bank during her run.\",\n",
    "    \"They had their picnic near the bank.\",\n",
    "    \"He dropped his keys near the bank.\",\n",
    "    \"The bank seemed deserted that evening.\",\n",
    "    \"She worked late at the bank again.\",\n",
    "    \"They held a meeting at the bank to discuss the project.\",\n",
    "    \"He waited outside the bank for her.\",\n",
    "    \"The children played near the bank while waiting.\",\n",
    "    \"She left her bag at the bank.\",\n",
    "    \"He couldn't find the bank at first.\",\n",
    "    \"They had an argument near the bank.\",\n",
    "    \"She usually takes a break at the bank.\",\n",
    "    \"The bank was a popular spot for lunch.\",\n",
    "    \"He made a quick stop at the bank.\",\n",
    "    \"She jogged past the bank every morning.\",\n",
    "    \"The bank was a central point in their neighborhood.\",\n",
    "    \"They planned to meet by the bank.\",\n",
    "    \"He often thought about the old stories of the bank.\",\n",
    "    \"The bank had a small garden beside it.\",\n",
    "    \"She was surprised to see him at the bank.\",\n",
    "    \"The bank was mentioned briefly in her book.\",\n",
    "    \"He couldn't remember the way to the bank.\",\n",
    "    \"She recommended a visit to the bank.\",\n",
    "    \"The bank had been there for over a century.\",\n",
    "    \"They took a walk past the bank.\",\n",
    "    \"He talked about the bank with nostalgia.\",\n",
    "    \"She left a note at the bank.\",\n",
    "    \"The bank was visible from their house.\",\n",
    "    \"He found an old photo of the bank.\",\n",
    "    \"She mentioned the bank in her story.\",\n",
    "    \"The bank was closed when they arrived.\",\n",
    "    \"He felt uneasy near the bank.\",\n",
    "    \"She wrote about the bank in her diary.\",\n",
    "    \"The bank was a fixture in their childhood stories.\",\n",
    "    \"They played games near the bank.\",\n",
    "    \"He thought he saw her near the bank.\",\n",
    "    \"The bank had an unusual shape.\",\n",
    "    \"She missed the turn to the bank.\",\n",
    "    \"The bank was part of their routine.\",\n",
    "    \"He found a wallet near the bank.\",\n",
    "    \"She took pictures of the bank.\",\n",
    "    \"The bank was mentioned in the local news.\",\n",
    "    \"He fixed the sign at the bank.\",\n",
    "    \"She often passed the bank on her walks.\",\n",
    "    \"The bank had a new owner.\",\n",
    "    \"He saved a kitten near the bank.\",\n",
    "    \"She learned to drive around the bank area.\",\n",
    "    \"The bank was a quiet place during the week.\",\n",
    "    \"He read a book about the history of the bank.\",\n",
    "    \"She felt nostalgic about the bank.\",\n",
    "    \"The bank had a quaint appearance.\",\n",
    "    \"He often sat near the bank to think.\",\n",
    "    \"She set up her easel near the bank.\",\n",
    "    \"The bank was part of the town's heritage.\",\n",
    "    \"He lost his watch near the bank.\",\n",
    "    \"She found her old friend at the bank.\",\n",
    "    \"The bank was under new management.\",\n",
    "    \"He had memories of playing at the bank.\",\n",
    "    \"She found an interesting plant near the bank.\",\n",
    "    \"The bank was often overlooked by tourists.\",\n",
    "    \"He talked about his experiences at the bank.\",\n",
    "    \"She felt a connection to the bank.\",\n",
    "    \"The bank was part of their daily view.\",\n",
    "    \"He helped clean up the area around the bank.\",\n",
    "    \"She had her first job at the bank.\",\n",
    "    \"The bank was a landmark in their community.\",\n",
    "    \"He remembered the old tree by the bank.\",\n",
    "    \"She always remembered the view from the bank.\",\n",
    "    \"The bank was a meeting point for many.\",\n",
    "    \"He found solace at the bank.\",\n",
    "    \"She often brought visitors to see the bank.\",\n",
    "    \"The bank was a topic of many local stories.\",\n",
    "    \"He was drawn to the solitude of the bank.\",\n",
    "    \"She thought of the bank as a peaceful place.\",\n",
    "    \"The bank had changed little over the years.\",\n",
    "    \"He always included the bank in his tours.\",\n",
    "    \"She considered the bank a part of her life.\",\n",
    "    \"The bank was well-known for its quiet.\",\n",
    "    \"He felt peace near the bank.\",\n",
    "    \"She used to think about the future at the bank.\",\n",
    "    \"The bank was a place of reflection.\",\n",
    "    \"He was surprised by the calmness of the bank.\",\n",
    "    \"She liked the atmosphere around the bank.\",\n",
    "    \"The bank was a scene of many early mornings.\"\n",
    "]"
   ]
  },
  {
   "cell_type": "code",
   "execution_count": 30,
   "id": "37f278bb-e18b-4aee-b7d1-5c0a00d770d3",
   "metadata": {},
   "outputs": [
    {
     "name": "stdout",
     "output_type": "stream",
     "text": [
      "\u001b[1m1/4\u001b[0m \u001b[32m━━━━━\u001b[0m\u001b[37m━━━━━━━━━━━━━━━\u001b[0m \u001b[1m0s\u001b[0m 82ms/stepWARNING:tensorflow:5 out of the last 10 calls to <function TensorFlowTrainer.make_predict_function.<locals>.one_step_on_data_distributed at 0x28e8b3ce0> triggered tf.function retracing. Tracing is expensive and the excessive number of tracings could be due to (1) creating @tf.function repeatedly in a loop, (2) passing tensors with different shapes, (3) passing Python objects instead of tensors. For (1), please define your @tf.function outside of the loop. For (2), @tf.function has reduce_retracing=True option that can avoid unnecessary retracing. For (3), please refer to https://www.tensorflow.org/guide/function#controlling_retracing and https://www.tensorflow.org/api_docs/python/tf/function for  more details.\n",
      "\u001b[1m4/4\u001b[0m \u001b[32m━━━━━━━━━━━━━━━━━━━━\u001b[0m\u001b[37m\u001b[0m \u001b[1m0s\u001b[0m 28ms/step\n",
      "WARNING:tensorflow:6 out of the last 11 calls to <function TensorFlowTrainer.make_predict_function.<locals>.one_step_on_data_distributed at 0x28e8b3ce0> triggered tf.function retracing. Tracing is expensive and the excessive number of tracings could be due to (1) creating @tf.function repeatedly in a loop, (2) passing tensors with different shapes, (3) passing Python objects instead of tensors. For (1), please define your @tf.function outside of the loop. For (2), @tf.function has reduce_retracing=True option that can avoid unnecessary retracing. For (3), please refer to https://www.tensorflow.org/guide/function#controlling_retracing and https://www.tensorflow.org/api_docs/python/tf/function for  more details.\n",
      "\u001b[1m4/4\u001b[0m \u001b[32m━━━━━━━━━━━━━━━━━━━━\u001b[0m\u001b[37m\u001b[0m \u001b[1m0s\u001b[0m 2ms/step \n",
      "High_context: % of predicting 'bank' as financial institution:\n",
      "0.91\n",
      "Low-context: % of predicting 'bank' as financial institution:\n",
      "0.46\n"
     ]
    }
   ],
   "source": [
    "new_input_highContext = [sentence.lower() for sentence in new_input_highContext]\n",
    "new_input_lowContext = [sentence.lower() for sentence in new_input_lowContext]\n",
    "\n",
    "sequences_highContext = tokenizer.texts_to_sequences(new_input_highContext)\n",
    "sequences_lowContext = tokenizer.texts_to_sequences(new_input_lowContext)\n",
    "\n",
    "padded_sequences_highContext = pad_sequences(sequences_highContext,padding='post')\n",
    "padded_sequences_lowContext = pad_sequences(sequences_lowContext,padding='post')\n",
    "\n",
    "predictions_highContext = model.predict(padded_sequences_highContext)\n",
    "predicted_classes_highContext = (predictions_highContext > 0.5).astype(int)\n",
    "\n",
    "predictions_lowContext = model.predict(padded_sequences_lowContext)\n",
    "predicted_classes_lowContext = (predictions_lowContext > 0.5).astype(int)\n",
    "\n",
    "# print(predicted_classes_highContext)\n",
    "print(\"High_context: % of predicting 'bank' as financial institution:\")\n",
    "print(len(predicted_classes_highContext[predicted_classes_highContext == 1])/len(predicted_classes_highContext))\n",
    "# print(predicted_classes_lowContext)\n",
    "print(\"Low-context: % of predicting 'bank' as financial institution:\")\n",
    "print(len(predicted_classes_lowContext[predicted_classes_lowContext == 1])/len(predicted_classes_lowContext))"
   ]
  },
  {
   "cell_type": "markdown",
   "id": "3f0ab9f9",
   "metadata": {},
   "source": [
    "The results show a significant influence of sentence context on the model's predictive accuracy. When presented with 100 high-context sentences where the word \"bank\" clearly referred to a financial institution, the model achieved a high accuracy of 91%. However, in 100 low-context sentences, where the meaning of \"bank\" was ambiguous, the model's accuracy dropped to 46%, which is not better than a random guess. This indicates the model's reliance on strong contextual cues and difficulty with ambiguity. This highlights the model's strength in clear contexts and suggests areas for improvement in handling ambiguous scenarios. "
   ]
  },
  {
   "cell_type": "code",
   "execution_count": null,
   "id": "41c81681-5a7c-4ea3-94e7-aff5cedd0889",
   "metadata": {},
   "outputs": [],
   "source": []
  }
 ],
 "metadata": {
  "kernelspec": {
   "display_name": "Python 3 (ipykernel)",
   "language": "python",
   "name": "python3"
  },
  "language_info": {
   "codemirror_mode": {
    "name": "ipython",
    "version": 3
   },
   "file_extension": ".py",
   "mimetype": "text/x-python",
   "name": "python",
   "nbconvert_exporter": "python",
   "pygments_lexer": "ipython3",
   "version": "3.11.5"
  }
 },
 "nbformat": 4,
 "nbformat_minor": 5
}
